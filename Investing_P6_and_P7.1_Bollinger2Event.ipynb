{
 "metadata": {
  "name": "",
  "signature": "sha256:c63ec3f63031122a784b7d1df16e06172998dc8bdd817fcdcc38eadcd7eed1d6"
 },
 "nbformat": 3,
 "nbformat_minor": 0,
 "worksheets": [
  {
   "cells": [
    {
     "cell_type": "code",
     "collapsed": false,
     "input": [
      "'''\n",
      "Stock Investing with Python Part6 \n",
      "======Assessing Bollinger Bands======\n",
      "Kun Zhuang\n",
      "iamzjk@hotmail.com\n",
      "'''"
     ],
     "language": "python",
     "metadata": {},
     "outputs": []
    },
    {
     "cell_type": "code",
     "collapsed": false,
     "input": [
      "import pandas as pd\n",
      "import numpy as np\n",
      "import datetime as dt\n",
      "import math\n",
      "import copy\n",
      "import QSTK.qstkutil.qsdateutil as du\n",
      "import QSTK.qstkutil.DataAccess as da\n",
      "import QSTK.qstkutil.tsutil as tu\n",
      "import QSTK.qstkstudy.EventProfiler as ep\n",
      "%matplotlib inline"
     ],
     "language": "python",
     "metadata": {},
     "outputs": [],
     "prompt_number": 1
    },
    {
     "cell_type": "code",
     "collapsed": false,
     "input": [
      "# inputs\n",
      "symbols = 'sp5002012'\n",
      "startdate = [2008,1,1]\n",
      "enddate = [2009,12,31]\n",
      "lookback = 20"
     ],
     "language": "python",
     "metadata": {},
     "outputs": [],
     "prompt_number": 68
    },
    {
     "cell_type": "code",
     "collapsed": false,
     "input": [
      "# download data\n",
      "print 'Accessing Yahoo dataset'\n",
      "dataobj = da.DataAccess('Yahoo')\n",
      "print 'Getting symbols'\n",
      "ls_symbols = dataobj.get_symbols_from_list(symbols)\n",
      "ls_symbols.append('SPY')\n",
      "print 'creating timestamps'\n",
      "dt_start = dt.datetime(startdate[0],startdate[1],startdate[2])\n",
      "dt_end = dt.datetime(enddate[0],enddate[1],enddate[2])\n",
      "ldt_timestamps = du.getNYSEdays(dt_start,dt_end,dt.timedelta(hours=16))\n",
      "print 'Downloading data from Yahoo'\n",
      "ls_keys = ['open', 'high', 'low', 'close', 'volume', 'actual_close']\n",
      "df_data = dataobj.get_data(ldt_timestamps,ls_symbols,ls_keys)\n",
      "print 'zipping data'\n",
      "d_data = dict(zip(ls_keys,df_data))\n",
      "print 'fill up NANs'\n",
      "for s_key in ls_keys:\n",
      "    d_data[s_key] = d_data[s_key].fillna(method='ffill')\n",
      "    d_data[s_key] = d_data[s_key].fillna(method='bfill')\n",
      "    d_data[s_key] = d_data[s_key].fillna(1.0)"
     ],
     "language": "python",
     "metadata": {},
     "outputs": [
      {
       "output_type": "stream",
       "stream": "stdout",
       "text": [
        "Accessing Yahoo dataset\n",
        "Getting symbols\n",
        "creating timestamps\n",
        "Downloading data from Yahoo\n",
        "zipping data"
       ]
      },
      {
       "output_type": "stream",
       "stream": "stdout",
       "text": [
        "\n",
        "fill up NANs\n"
       ]
      }
     ],
     "prompt_number": 69
    },
    {
     "cell_type": "code",
     "collapsed": false,
     "input": [
      "# create Bollinger Bands\n",
      "df_data = pd.DataFrame(d_data['close'])"
     ],
     "language": "python",
     "metadata": {},
     "outputs": [],
     "prompt_number": 70
    },
    {
     "cell_type": "code",
     "collapsed": false,
     "input": [
      "df_ma = pd.rolling_mean(df_data,lookback)\n",
      "df_std = pd.rolling_std(df_data,lookback)\n",
      "df_bollingerbands = (df_data - df_ma)/df_std"
     ],
     "language": "python",
     "metadata": {},
     "outputs": [],
     "prompt_number": 71
    },
    {
     "cell_type": "code",
     "collapsed": false,
     "input": [
      "ls_symbols_x = list(ls_symbols)\n",
      "ls_symbols.remove('SPY')"
     ],
     "language": "python",
     "metadata": {},
     "outputs": [],
     "prompt_number": 72
    },
    {
     "cell_type": "code",
     "collapsed": false,
     "input": [
      "'''\n",
      "Part 2: Now create an event study with the signal being:\n",
      "Bollinger value for the equity today <= -2.0\n",
      "Bollinger value for the equity yesterday >= -2.0\n",
      "Bollinger value for SPY today >= 1.0\n",
      "'''\n",
      "#print 'finding events'\n",
      "df_events = copy.deepcopy(df_data) * np.NAN     #creat event dataframe with NAN value in the same size as df_actual\n",
      "ls_index = df_data.index\n",
      "# creat an empty orders dataframe. It will be filled up in later for loop and output to a csv file\n",
      "# 6 cols: (year, month, day, symbol, act = buy/sell, #of shares)\n",
      "df_orders = pd.DataFrame()\n",
      "df_order = pd.DataFrame(np.zeros((2,7)),index=[0,1],columns=['year','month','day','symbol','act','shares','date'])*np.NAN\n",
      "for sym in ls_symbols:\n",
      "    for i in xrange(1,len(ls_index)):\n",
      "        if df_bollingerbands[sym].ix[i] <= -2.0 and df_bollingerbands[sym].ix[i-1] >= -2.0 and df_bollingerbands['SPY'].ix[i] >= 1.2:\n",
      "            # create events\n",
      "            df_events[sym].ix[i] = 1\n",
      "            # create buy order right now\n",
      "            df_order.ix[0,0] = ldt_timestamps[i].date().year #year1\n",
      "            df_order.ix[0,1] = ldt_timestamps[i].date().month #month1\n",
      "            df_order.ix[0,2] = ldt_timestamps[i].date().day #day1\n",
      "            df_order.ix[0,3] = sym #symbol1\n",
      "            df_order.ix[0,4] = 'Buy' #act1\n",
      "            df_order.ix[0,5] = 100 # shares1\n",
      "            df_order.ix[0,6] = ldt_timestamps[i].date()\n",
      "            # create sell order for 5 days later or sell on the last day anyway\n",
      "            if len(ls_index)-i <= 5: # sell on the last day\n",
      "                df_order.ix[1,0] = ldt_timestamps[-1].date().year\n",
      "                df_order.ix[1,1] = ldt_timestamps[-1].date().month\n",
      "                df_order.ix[1,2] = ldt_timestamps[-1].date().day\n",
      "                df_order.ix[1,3] = sym\n",
      "                df_order.ix[1,4] = 'Sell'\n",
      "                df_order.ix[1,5] = 100\n",
      "                df_order.ix[1,6] = ldt_timestamps[-1].date()\n",
      "            else:# sell 5 days later\n",
      "                df_order.ix[1,0] = ldt_timestamps[i+5].date().year\n",
      "                df_order.ix[1,1] = ldt_timestamps[i+5].date().month\n",
      "                df_order.ix[1,2] = ldt_timestamps[i+5].date().day         # i-1+5 ,sell 5 days later\n",
      "                df_order.ix[1,3] = sym\n",
      "                df_order.ix[1,4] = 'Sell'\n",
      "                df_order.ix[1,5] = 100\n",
      "                df_order.ix[1,6] = ldt_timestamps[i+5].date()\n",
      "            df_orders = df_orders.append(df_order, ignore_index = True)"
     ],
     "language": "python",
     "metadata": {},
     "outputs": [],
     "prompt_number": 73
    },
    {
     "cell_type": "code",
     "collapsed": false,
     "input": [
      "df_orders = df_orders.sort('date',ascending = True)\n",
      "df_orders.to_csv('EventsOrders_HW7.csv',header = False, index = False)"
     ],
     "language": "python",
     "metadata": {},
     "outputs": [],
     "prompt_number": 74
    },
    {
     "cell_type": "code",
     "collapsed": false,
     "input": [
      "pd.value_counts(df_events.values.ravel())"
     ],
     "language": "python",
     "metadata": {},
     "outputs": [
      {
       "metadata": {},
       "output_type": "pyout",
       "prompt_number": 75,
       "text": [
        "1    224\n",
        "dtype: int64"
       ]
      }
     ],
     "prompt_number": 75
    },
    {
     "cell_type": "code",
     "collapsed": false,
     "input": [
      "ep.eventprofiler(df_events, d_data, i_lookback=20, i_lookforward=20,\n",
      "                s_filename='MyEventStudyHW7.pdf', b_market_neutral=True, b_errorbars=True,\n",
      "                s_market_sym='SPY')"
     ],
     "language": "python",
     "metadata": {},
     "outputs": [
      {
       "metadata": {},
       "output_type": "display_data",
       "png": "[encoded data removed]",
       "text": [
        "<matplotlib.figure.Figure at 0x6c2e410>"
       ]
      }
     ],
     "prompt_number": 76
    },
    {
     "cell_type": "code",
     "collapsed": false,
     "input": [],
     "language": "python",
     "metadata": {},
     "outputs": [],
     "prompt_number": 76
    }
   ],
   "metadata": {}
  }
 ]
}
