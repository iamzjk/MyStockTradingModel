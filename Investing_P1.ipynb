{
 "metadata": {
  "name": "",
  "signature": "sha256:a72b3a796090bd035252e731471532ffb8d9be2bcc8d30c69441fd2c4f5b4078"
 },
 "nbformat": 3,
 "nbformat_minor": 0,
 "worksheets": [
  {
   "cells": [
    {
     "cell_type": "code",
     "collapsed": false,
     "input": [
      "#Stock Investing with Python Part1 \n",
      "#Simulation\n",
      "#Jingkun Zhuang\n",
      "#iamzjk@hotmail.com"
     ],
     "language": "python",
     "metadata": {},
     "outputs": [],
     "prompt_number": 2
    },
    {
     "cell_type": "code",
     "collapsed": false,
     "input": [
      "#QSTK IMPORTS\n",
      "import QSTK.qstkutil.qsdateutil as du\n",
      "import QSTK.qstkutil.tsutil as tsu\n",
      "import QSTK.qstkutil.DataAccess as da\n",
      "\n",
      "#Third Party Imports\n",
      "import datetime as dt\n",
      "import matplotlib.pyplot as plt\n",
      "import pandas as pd\n",
      "import numpy as np"
     ],
     "language": "python",
     "metadata": {},
     "outputs": [],
     "prompt_number": 1
    },
    {
     "cell_type": "code",
     "collapsed": false,
     "input": [
      "startdate = [2011,1,1]\n",
      "enddate = [2011,12,31]\n",
      "symbols = ['AAPL', 'GLD', 'GOOG', 'XOM']\n",
      "allocation = [0.4,0.4,0.0,0.2]"
     ],
     "language": "python",
     "metadata": {},
     "outputs": [],
     "prompt_number": 154
    },
    {
     "cell_type": "code",
     "collapsed": false,
     "input": [
      "dt_start = dt.datetime(startdate[0],startdate[1],startdate[2])\n",
      "dt_end = dt.datetime(enddate[0],enddate[1],enddate[2])\n",
      "dt_timeofday = dt.timedelta(hours=16)\n",
      "ldt_timestamps = du.getNYSEdays(dt_start, dt_end, dt_timeofday)\n",
      "print ldt_timestamps[:5]"
     ],
     "language": "python",
     "metadata": {},
     "outputs": [
      {
       "output_type": "stream",
       "stream": "stdout",
       "text": [
        "[Timestamp('2011-01-03 16:00:00', tz=None), Timestamp('2011-01-04 16:00:00', tz=None), Timestamp('2011-01-05 16:00:00', tz=None), Timestamp('2011-01-06 16:00:00', tz=None), Timestamp('2011-01-07 16:00:00', tz=None)]\n"
       ]
      }
     ],
     "prompt_number": 155
    },
    {
     "cell_type": "code",
     "collapsed": false,
     "input": [
      "ls_symbols = list(symbols)\n",
      "ls_alloc = list(allocation)\n",
      "ls_keys = ['open','high','low','close','volume','actual_close']\n",
      "print ls_symbols\n",
      "print ls_alloc\n",
      "print ls_keys"
     ],
     "language": "python",
     "metadata": {},
     "outputs": [
      {
       "output_type": "stream",
       "stream": "stdout",
       "text": [
        "['AAPL', 'GLD', 'GOOG', 'XOM']\n",
        "[0.4, 0.4, 0.0, 0.2]\n",
        "['open', 'high', 'low', 'close', 'volume', 'actual_close']\n"
       ]
      }
     ],
     "prompt_number": 156
    },
    {
     "cell_type": "code",
     "collapsed": false,
     "input": [
      "c_dataobj = da.DataAccess('Yahoo')\n",
      "ldf_data = c_dataobj.get_data(ldt_timestamps, ls_symbols, ls_keys)"
     ],
     "language": "python",
     "metadata": {},
     "outputs": [],
     "prompt_number": 157
    },
    {
     "cell_type": "code",
     "collapsed": false,
     "input": [
      "d_data = dict(zip(ls_keys,ldf_data))"
     ],
     "language": "python",
     "metadata": {},
     "outputs": [],
     "prompt_number": 158
    },
    {
     "cell_type": "code",
     "collapsed": false,
     "input": [
      "for s_key in ls_keys:\n",
      "        d_data[s_key] = d_data[s_key].fillna(method='ffill')\n",
      "        d_data[s_key] = d_data[s_key].fillna(method='bfill')\n",
      "        d_data[s_key] = d_data[s_key].fillna(1.0)"
     ],
     "language": "python",
     "metadata": {},
     "outputs": [],
     "prompt_number": 159
    },
    {
     "cell_type": "code",
     "collapsed": false,
     "input": [
      "na_price = d_data['close'].values"
     ],
     "language": "python",
     "metadata": {},
     "outputs": [],
     "prompt_number": 160
    },
    {
     "cell_type": "code",
     "collapsed": false,
     "input": [
      "normalize = na_price/na_price[0,:]\n",
      "al_norm = normalize*(array(allocation).reshape(1,len(allocation)))\n",
      "pf_norm = al_norm.sum(axis = 1)\n",
      "pf_daily_ret = pf_norm[1:]/pf_norm[:-1]-1\n",
      "first_day_ret = [1,0]\n",
      "pf_daily_ret = list(first_day_ret) + list(pf_daily_ret)\n",
      "pf_daily_ret = pf_daily_ret[1:]\n",
      "daily = average(pf_daily_ret)\n",
      "print daily"
     ],
     "language": "python",
     "metadata": {},
     "outputs": [
      {
       "output_type": "stream",
       "stream": "stdout",
       "text": [
        "0.000657261102001\n"
       ]
      }
     ],
     "prompt_number": 174
    },
    {
     "cell_type": "code",
     "collapsed": false,
     "input": [
      "std = np.std(pf_daily_ret)\n",
      "sharpe = sqrt(252)*daily/std\n",
      "print 'vol: %s, DailyRet: %s, Sharpe: %s' % (std, daily, sharpe)"
     ],
     "language": "python",
     "metadata": {},
     "outputs": [
      {
       "output_type": "stream",
       "stream": "stdout",
       "text": [
        "vol: 0.0101467067654, DailyRet: 0.000657261102001, Sharpe: 1.02828403099\n"
       ]
      }
     ],
     "prompt_number": 175
    },
    {
     "cell_type": "code",
     "collapsed": false,
     "input": [
      "cum_ret = pf_norm[-1]\n",
      "print 'Cumulative Return:',cum_ret"
     ],
     "language": "python",
     "metadata": {},
     "outputs": [
      {
       "output_type": "stream",
       "stream": "stdout",
       "text": [
        "Cumulative Return: 1.16487261965\n"
       ]
      }
     ],
     "prompt_number": 176
    },
    {
     "cell_type": "code",
     "collapsed": false,
     "input": [
      "print 'Start Date:', dt_start\n",
      "print 'End Date:', dt_end\n",
      "print 'Symbols:', ls_symbols\n",
      "print 'Optimal Allocations:', allocation\n",
      "print 'Sharpe Ratio:', sharpe\n",
      "print 'Volatility (stdev of daily returns):', std\n",
      "print 'Average Daily Return:', daily\n",
      "print 'Cumulative Return:', cum_ret"
     ],
     "language": "python",
     "metadata": {},
     "outputs": [
      {
       "output_type": "stream",
       "stream": "stdout",
       "text": [
        "Start Date: 2011-01-01 00:00:00\n",
        "End Date: 2011-12-31 00:00:00\n",
        "Symbols: ['AAPL', 'GLD', 'GOOG', 'XOM']\n",
        "Optimal Allocations: [0.4, 0.4, 0.0, 0.2]\n",
        "Sharpe Ratio: 1.02828403099\n",
        "Volatility (stdev of daily returns): 0.0101467067654\n",
        "Average Daily Return: 0.000657261102001\n",
        "Cumulative Return: 1.16487261965\n"
       ]
      }
     ],
     "prompt_number": 177
    },
    {
     "cell_type": "code",
     "collapsed": false,
     "input": [
      "'''\n",
      "Start Date: January 1, 2011\n",
      "End Date: December 31, 2011\n",
      "Symbols: ['AAPL', 'GLD', 'GOOG', 'XOM']\n",
      "Optimal Allocations: [0.4, 0.4, 0.0, 0.2]\n",
      "Sharpe Ratio: 1.02828403099\n",
      "Volatility (stdev of daily returns):  0.0101467067654\n",
      "Average Daily Return:  0.000657261102001\n",
      "Cumulative Return:  1.16487261965\n",
      "'''"
     ],
     "language": "python",
     "metadata": {},
     "outputs": [
      {
       "metadata": {},
       "output_type": "pyout",
       "prompt_number": 178,
       "text": [
        "\"\\nStart Date: January 1, 2011\\nEnd Date: December 31, 2011\\nSymbols: ['AAPL', 'GLD', 'GOOG', 'XOM']\\nOptimal Allocations: [0.4, 0.4, 0.0, 0.2]\\nSharpe Ratio: 1.02828403099\\nVolatility (stdev of daily returns):  0.0101467067654\\nAverage Daily Return:  0.000657261102001\\nCumulative Return:  1.16487261965\\n\""
       ]
      }
     ],
     "prompt_number": 178
    },
    {
     "cell_type": "code",
     "collapsed": false,
     "input": [
      "import inspect\n",
      "print inspect.getsource(tsu.returnize0)"
     ],
     "language": "python",
     "metadata": {},
     "outputs": [
      {
       "output_type": "stream",
       "stream": "stdout",
       "text": [
        "def returnize0(nds):\n",
        "    \"\"\"\n",
        "    @summary Computes stepwise (usually daily) returns relative to 0, where\n",
        "    0 implies no change in value.\n",
        "    @return the array is revised in place\n",
        "    \"\"\"\n",
        "    if type(nds) == type(pd.DataFrame()):\n",
        "        nds = (nds / nds.shift(1)) - 1.0\n",
        "        nds = nds.fillna(0.0)\n",
        "        return nds\n",
        "\n",
        "    s= np.shape(nds)\n",
        "    if len(s)==1:\n",
        "        nds=np.expand_dims(nds,1)\n",
        "    nds[1:, :] = (nds[1:, :] / nds[0:-1]) - 1\n",
        "    nds[0, :] = np.zeros(nds.shape[1])\n",
        "    return nds\n",
        "\n"
       ]
      }
     ],
     "prompt_number": 179
    },
    {
     "cell_type": "code",
     "collapsed": false,
     "input": [],
     "language": "python",
     "metadata": {},
     "outputs": []
    }
   ],
   "metadata": {}
  }
 ]
}