{
 "metadata": {
  "name": "",
  "signature": "sha256:b48c14b49645b10045c7f78ba33fdb05aec1dfb6fe8bee2151e5a2d18b0f688e"
 },
 "nbformat": 3,
 "nbformat_minor": 0,
 "worksheets": [
  {
   "cells": [
    {
     "cell_type": "code",
     "collapsed": false,
     "input": [
      "'''\n",
      "Stock Investing with Python Part7 \n",
      "======Back Test on Bollinger Bands======\n",
      "Jingkun Zhuang\n",
      "iamzjk@hotmail.com\n",
      "'''"
     ],
     "language": "python",
     "metadata": {},
     "outputs": []
    },
    {
     "cell_type": "code",
     "collapsed": false,
     "input": [
      "import numpy as np\n",
      "import pandas as pd\n",
      "import datetime as dt\n",
      "import matplotlib.pyplot as plt\n",
      "import copy\n",
      "\n",
      "import QSTK.qstkutil.qsdateutil as du\n",
      "import QSTK.qstkutil.tsutil as tsu\n",
      "import QSTK.qstkutil.DataAccess as da"
     ],
     "language": "python",
     "metadata": {},
     "outputs": [],
     "prompt_number": 1
    },
    {
     "cell_type": "code",
     "collapsed": false,
     "input": [
      "cash = 100000.0\n",
      "order_csv = \"EventsOrders_HW7.csv\"\n",
      "value_csv = \"EventsOrders_value_HW7.csv\""
     ],
     "language": "python",
     "metadata": {},
     "outputs": [],
     "prompt_number": 2
    },
    {
     "cell_type": "code",
     "collapsed": false,
     "input": [
      "df_raw = pd.read_csv(order_csv,header = None)\n",
      "df_order = df_raw.ix[:,:5]"
     ],
     "language": "python",
     "metadata": {},
     "outputs": [],
     "prompt_number": 3
    },
    {
     "cell_type": "code",
     "collapsed": false,
     "input": [
      "df_order.head()"
     ],
     "language": "python",
     "metadata": {},
     "outputs": [
      {
       "html": [
        "<div style=\"max-height:1000px;max-width:1500px;overflow:auto;\">\n",
        "<table border=\"1\" class=\"dataframe\">\n",
        "  <thead>\n",
        "    <tr style=\"text-align: right;\">\n",
        "      <th></th>\n",
        "      <th>0</th>\n",
        "      <th>1</th>\n",
        "      <th>2</th>\n",
        "      <th>3</th>\n",
        "      <th>4</th>\n",
        "      <th>5</th>\n",
        "    </tr>\n",
        "  </thead>\n",
        "  <tbody>\n",
        "    <tr>\n",
        "      <th>0</th>\n",
        "      <td> 2008</td>\n",
        "      <td> 2</td>\n",
        "      <td> 26</td>\n",
        "      <td> GOOG</td>\n",
        "      <td>  Buy</td>\n",
        "      <td> 100</td>\n",
        "    </tr>\n",
        "    <tr>\n",
        "      <th>1</th>\n",
        "      <td> 2008</td>\n",
        "      <td> 2</td>\n",
        "      <td> 27</td>\n",
        "      <td> ADSK</td>\n",
        "      <td>  Buy</td>\n",
        "      <td> 100</td>\n",
        "    </tr>\n",
        "    <tr>\n",
        "      <th>2</th>\n",
        "      <td> 2008</td>\n",
        "      <td> 2</td>\n",
        "      <td> 27</td>\n",
        "      <td>  CMS</td>\n",
        "      <td>  Buy</td>\n",
        "      <td> 100</td>\n",
        "    </tr>\n",
        "    <tr>\n",
        "      <th>3</th>\n",
        "      <td> 2008</td>\n",
        "      <td> 2</td>\n",
        "      <td> 27</td>\n",
        "      <td>  HSP</td>\n",
        "      <td>  Buy</td>\n",
        "      <td> 100</td>\n",
        "    </tr>\n",
        "    <tr>\n",
        "      <th>4</th>\n",
        "      <td> 2008</td>\n",
        "      <td> 3</td>\n",
        "      <td>  4</td>\n",
        "      <td> GOOG</td>\n",
        "      <td> Sell</td>\n",
        "      <td> 100</td>\n",
        "    </tr>\n",
        "  </tbody>\n",
        "</table>\n",
        "</div>"
       ],
       "metadata": {},
       "output_type": "pyout",
       "prompt_number": 4,
       "text": [
        "      0  1   2     3     4    5\n",
        "0  2008  2  26  GOOG   Buy  100\n",
        "1  2008  2  27  ADSK   Buy  100\n",
        "2  2008  2  27   CMS   Buy  100\n",
        "3  2008  2  27   HSP   Buy  100\n",
        "4  2008  3   4  GOOG  Sell  100"
       ]
      }
     ],
     "prompt_number": 4
    },
    {
     "cell_type": "code",
     "collapsed": false,
     "input": [
      "ls_symbols = list(set(df_order.ix[:,3]))+['cash']"
     ],
     "language": "python",
     "metadata": {},
     "outputs": [],
     "prompt_number": 5
    },
    {
     "cell_type": "code",
     "collapsed": false,
     "input": [
      "len(ls_symbols)-1"
     ],
     "language": "python",
     "metadata": {},
     "outputs": [
      {
       "metadata": {},
       "output_type": "pyout",
       "prompt_number": 6,
       "text": [
        "164"
       ]
      }
     ],
     "prompt_number": 6
    },
    {
     "cell_type": "code",
     "collapsed": false,
     "input": [
      "dataobj = da.DataAccess('Yahoo')\n",
      "dt_start = dt.datetime(int(df_order.ix[0,0]),int(df_order.ix[0,1]),int(df_order.ix[0,2]))\n",
      "dt_last = dt.datetime(int(df_order.iloc[-1,0]),int(df_order.iloc[-1,1]),int(df_order.iloc[-1,2]))\n",
      "dt_end = dt_last + dt.timedelta(days=1)\n",
      "dt_timeofday = dt.timedelta(hours = 16)\n",
      "ldt_timestamps = du.getNYSEdays(dt_start,dt_end,dt_timeofday)"
     ],
     "language": "python",
     "metadata": {},
     "outputs": [],
     "prompt_number": 7
    },
    {
     "cell_type": "code",
     "collapsed": false,
     "input": [
      "ldt_timestamps[:5]"
     ],
     "language": "python",
     "metadata": {},
     "outputs": [
      {
       "metadata": {},
       "output_type": "pyout",
       "prompt_number": 8,
       "text": [
        "[Timestamp('2008-02-26 16:00:00'),\n",
        " Timestamp('2008-02-27 16:00:00'),\n",
        " Timestamp('2008-02-28 16:00:00'),\n",
        " Timestamp('2008-02-29 16:00:00'),\n",
        " Timestamp('2008-03-03 16:00:00')]"
       ]
      }
     ],
     "prompt_number": 8
    },
    {
     "cell_type": "code",
     "collapsed": false,
     "input": [
      "df_close1 = dataobj.get_data(ldt_timestamps, ls_symbols, 'close')\n",
      "df_close1 = df_close1.fillna(method = 'ffill')\n",
      "df_close1 = df_close1.fillna(method = 'bfill')\n",
      "df_close1 = df_close1.fillna(1.0)\n",
      "df_close = df_close1"
     ],
     "language": "python",
     "metadata": {},
     "outputs": [
      {
       "output_type": "stream",
       "stream": "stdout",
       "text": [
        "Did not find path to cash. Looks like this file is missing\n"
       ]
      }
     ],
     "prompt_number": 9
    },
    {
     "cell_type": "code",
     "collapsed": false,
     "input": [
      "df_close.to_csv('df_close.csv')"
     ],
     "language": "python",
     "metadata": {},
     "outputs": [],
     "prompt_number": 10
    },
    {
     "cell_type": "code",
     "collapsed": false,
     "input": [
      "df_trades = copy.deepcopy(df_close)\n",
      "df_trades = df_trades * 0.0"
     ],
     "language": "python",
     "metadata": {},
     "outputs": [],
     "prompt_number": 11
    },
    {
     "cell_type": "code",
     "collapsed": false,
     "input": [
      "ar_order = df_order.values\n",
      "ar_order[:,0:3] = ar_order[:,0:3].astype(int)\n",
      "ar_order[:,5] = ar_order[:,5]*1.0\n",
      "ar_order"
     ],
     "language": "python",
     "metadata": {},
     "outputs": [
      {
       "metadata": {},
       "output_type": "pyout",
       "prompt_number": 12,
       "text": [
        "array([[2008, 2, 26, 'GOOG', 'Buy', 100.0],\n",
        "       [2008, 2, 27, 'ADSK', 'Buy', 100.0],\n",
        "       [2008, 2, 27, 'CMS', 'Buy', 100.0],\n",
        "       ..., \n",
        "       [2009, 12, 30, 'CTAS', 'Sell', 100.0],\n",
        "       [2009, 12, 30, 'HAR', 'Sell', 100.0],\n",
        "       [2009, 12, 30, 'TWC', 'Sell', 100.0]], dtype=object)"
       ]
      }
     ],
     "prompt_number": 12
    },
    {
     "cell_type": "code",
     "collapsed": false,
     "input": [
      "df_trades1 = copy.deepcopy(df_trades)\n",
      "df_trades1['cash'][0]=cash\n",
      "#print df_trades1\n",
      "for i in range(0,len(ldt_timestamps)):\n",
      "    for j in range(0,len(ar_order)):\n",
      "        if (dt.datetime(ar_order[j,0],ar_order[j,1],ar_order[j,2]).date() == ldt_timestamps[i].date()) & (ar_order[j,4] == 'Buy'):\n",
      "            df_trades1[str(ar_order[j,3])][i] += ar_order[j,5]\n",
      "            df_trades1['cash'][i] -= ar_order[j,5] * df_close[str(ar_order[j,3])][i]\n",
      "        elif (dt.datetime(ar_order[j,0],ar_order[j,1],ar_order[j,2]).date() == ldt_timestamps[i].date()) & (ar_order[j,4] == 'Sell'):\n",
      "            df_trades1[ar_order[j,3]][i] -= ar_order[j,5]\n",
      "            df_trades1['cash'][i] += ar_order[j,5] * df_close[str(ar_order[j,3])][i]\n",
      "for sym in ls_symbols:\n",
      "    base = df_trades1[sym][0]\n",
      "    for i in range(1,len(ldt_timestamps)):\n",
      "        base += df_trades1[sym][i]\n",
      "        df_trades1[sym][i] = base\n",
      "#print df_trades1.head\n",
      "#df_trades1.to_csv('df_trades1.csv')"
     ],
     "language": "python",
     "metadata": {},
     "outputs": [],
     "prompt_number": 13
    },
    {
     "cell_type": "code",
     "collapsed": false,
     "input": [
      "#df_close.to_csv('df_close.csv')\n",
      "df_sum = pd.DataFrame()\n",
      "#for sym in ls_symbols:\n",
      "    #print sym\n",
      "df_sum = df_trades1 * df_close\n",
      "#df_sum.to_csv('df_sum.csv')\n",
      "df_trades1['total_value'] = df_sum.sum(axis=1)\n",
      "#print df_trades1.head()"
     ],
     "language": "python",
     "metadata": {},
     "outputs": [],
     "prompt_number": 14
    },
    {
     "cell_type": "code",
     "collapsed": false,
     "input": [
      "'''\n",
      "xdate = [2011,9,26]\n",
      "for i in range(0,len(ldt_timestamps)):\n",
      "    if ldt_timestamps[i].date() == dt.datetime(xdate[0],xdate[1],xdate[2]).date():\n",
      "        xx = df_trades1['total_value'][i]\n",
      "        yy = ldt_timestamps[i]\n",
      "'''"
     ],
     "language": "python",
     "metadata": {},
     "outputs": [
      {
       "metadata": {},
       "output_type": "pyout",
       "prompt_number": 15,
       "text": [
        "\"\\nxdate = [2011,9,26]\\nfor i in range(0,len(ldt_timestamps)):\\n    if ldt_timestamps[i].date() == dt.datetime(xdate[0],xdate[1],xdate[2]).date():\\n        xx = df_trades1['total_value'][i]\\n        yy = ldt_timestamps[i]\\n\""
       ]
      }
     ],
     "prompt_number": 15
    },
    {
     "cell_type": "code",
     "collapsed": false,
     "input": [
      "# write result to value.csv\n",
      "#value_csv = \"F:\\\\kp\\\\Rutgers\\\\2014Fall\\\\ComputationalInvesting\\\\HW3\\\\Orders-files\\\\value1.csv\"\n",
      "df_trades1.to_csv(value_csv)"
     ],
     "language": "python",
     "metadata": {},
     "outputs": [],
     "prompt_number": 16
    },
    {
     "cell_type": "code",
     "collapsed": false,
     "input": [
      "df_trades1['total_value_nor'] = df_trades1['total_value']/(df_trades1['total_value'][0])"
     ],
     "language": "python",
     "metadata": {},
     "outputs": [],
     "prompt_number": 17
    },
    {
     "cell_type": "code",
     "collapsed": false,
     "input": [
      "df_trades1['daily_ret'] = df_trades1['total_value_nor']/df_trades1['total_value_nor'].shift(1)-1\n",
      "df_trades1['daily_ret'][0] = 0.0\n",
      "print df_trades1.head()"
     ],
     "language": "python",
     "metadata": {},
     "outputs": [
      {
       "output_type": "stream",
       "stream": "stdout",
       "text": [
        "                     AGN  NFLX  CPB  VFC  SRCL  DRI  CCE  PPL  SHLD  TAP  \\\n",
        "2008-02-26 16:00:00    0     0    0    0     0    0    0    0     0    0   \n",
        "2008-02-27 16:00:00    0     0    0    0     0    0    0    0     0    0   \n",
        "2008-02-28 16:00:00    0     0    0    0     0    0    0    0     0    0   \n",
        "2008-02-29 16:00:00    0     0    0    0     0    0    0    0     0    0   \n",
        "2008-03-03 16:00:00    0     0    0    0     0    0    0    0     0    0   \n",
        "\n",
        "                       ...      MCO  PFE  MCD  PBCT  DFS  PNC   cash  \\\n",
        "2008-02-26 16:00:00    ...        0    0    0     0    0    0  53581   \n",
        "2008-02-27 16:00:00    ...        0    0    0     0    0    0  45035   \n",
        "2008-02-28 16:00:00    ...        0    0    0     0    0    0  45035   \n",
        "2008-02-29 16:00:00    ...        0    0    0     0    0    0  45035   \n",
        "2008-03-03 16:00:00    ...        0    0    0     0    0    0  45035   \n",
        "\n",
        "                     total_value  total_value_nor  daily_ret  \n",
        "2008-02-26 16:00:00       100000          1.00000   0.000000  \n",
        "2008-02-27 16:00:00       100867          1.00867   0.008670  \n",
        "2008-02-28 16:00:00       101430          1.01430   0.005582  \n",
        "2008-02-29 16:00:00       100725          1.00725  -0.006951  \n",
        "2008-03-03 16:00:00        99260          0.99260  -0.014545  \n",
        "\n",
        "[5 rows x 168 columns]\n"
       ]
      }
     ],
     "prompt_number": 18
    },
    {
     "cell_type": "code",
     "collapsed": false,
     "input": [
      "pt_std = np.std(df_trades1['daily_ret'])\n",
      "pt_ave_ret = np.average(df_trades1['daily_ret'])\n",
      "pt_sharpe = np.sqrt(252)*pt_ave_ret/pt_std\n",
      "pt_cum = df_trades1['total_value_nor'][-1]\n",
      "pt_std, pt_ave_ret, pt_sharpe, pt_cum"
     ],
     "language": "python",
     "metadata": {},
     "outputs": [
      {
       "metadata": {},
       "output_type": "pyout",
       "prompt_number": 19,
       "text": [
        "(0.0031990600683781626,\n",
        " 0.00010063596449496034,\n",
        " 0.49937993531539365,\n",
        " 1.0456300000000001)"
       ]
      }
     ],
     "prompt_number": 19
    },
    {
     "cell_type": "code",
     "collapsed": false,
     "input": [
      "df_close_SPX = dataobj.get_data(ldt_timestamps, ['$SPX'], 'close')"
     ],
     "language": "python",
     "metadata": {},
     "outputs": [],
     "prompt_number": 20
    },
    {
     "cell_type": "code",
     "collapsed": false,
     "input": [
      "df_close_SPX['$SPX_nor'] = df_close_SPX['$SPX']/df_close_SPX['$SPX'][0]\n",
      "df_close_SPX['$SPX_daily'] = df_close_SPX['$SPX']/df_close_SPX['$SPX'].shift(1)-1\n",
      "df_close_SPX['$SPX_daily'][0] = 0.0\n",
      "print df_close_SPX.head()"
     ],
     "language": "python",
     "metadata": {},
     "outputs": [
      {
       "output_type": "stream",
       "stream": "stdout",
       "text": [
        "                        $SPX  $SPX_nor  $SPX_daily\n",
        "2008-02-26 16:00:00  1381.29  1.000000    0.000000\n",
        "2008-02-27 16:00:00  1380.02  0.999081   -0.000919\n",
        "2008-02-28 16:00:00  1367.68  0.990147   -0.008942\n",
        "2008-02-29 16:00:00  1330.63  0.963324   -0.027090\n",
        "2008-03-03 16:00:00  1331.34  0.963838    0.000534\n"
       ]
      }
     ],
     "prompt_number": 21
    },
    {
     "cell_type": "code",
     "collapsed": false,
     "input": [
      "SPX_std = np.std(df_close_SPX['$SPX_daily'])\n",
      "SPX_ave_ret = np.average(df_close_SPX['$SPX_daily'])\n",
      "SPX_sharpe = np.sqrt(252)*SPX_ave_ret/SPX_std\n",
      "SPX_cum = df_close_SPX['$SPX_nor'][-1]"
     ],
     "language": "python",
     "metadata": {},
     "outputs": [],
     "prompt_number": 22
    },
    {
     "cell_type": "code",
     "collapsed": false,
     "input": [
      "pd.options.display.mpl_style = 'default'\n",
      "%matplotlib inline\n",
      "pt = df_trades1['total_value']\n",
      "SPX = df_close_SPX['$SPX_nor']*100000\n",
      "df_plot = pd.concat([pt,SPX],axis=1)\n",
      "pic = df_plot.plot()\n",
      "pic.set_ylabel('fund value')\n",
      "pic.set_xlabel('date')\n",
      "pic.legend(loc = 'lower left')"
     ],
     "language": "python",
     "metadata": {},
     "outputs": [
      {
       "metadata": {},
       "output_type": "pyout",
       "prompt_number": 23,
       "text": [
        "<matplotlib.legend.Legend at 0x4397050>"
       ]
      },
      {
       "output_type": "stream",
       "stream": "stderr",
       "text": [
        "/home/jingkun/Enthought/Canopy_64bit/User/lib/python2.7/site-packages/matplotlib/font_manager.py:1279: UserWarning: findfont: Font family ['monospace'] not found. Falling back to Bitstream Vera Sans\n",
        "  (prop.get_family(), self.defaultFamily[fontext]))\n"
       ]
      },
      {
       "metadata": {},
       "output_type": "display_data",
       "png": "[encoded data removed]",
       "text": [
        "<matplotlib.figure.Figure at 0x438c710>"
       ]
      }
     ],
     "prompt_number": 23
    },
    {
     "cell_type": "code",
     "collapsed": false,
     "input": [
      "print SPX_std, SPX_ave_ret, SPX_sharpe, SPX_cum\n",
      "print pt_std, pt_ave_ret, pt_sharpe, pt_cum"
     ],
     "language": "python",
     "metadata": {},
     "outputs": [
      {
       "output_type": "stream",
       "stream": "stdout",
       "text": [
        "0.022459611806 -0.000184337306771 -0.130290053616 0.815484076479\n",
        "0.00319906006838 0.000100635964495 0.499379935315 1.04563\n"
       ]
      }
     ],
     "prompt_number": 24
    },
    {
     "cell_type": "code",
     "collapsed": false,
     "input": [
      "df_close_SPX['$SPX'][-1]/df_close_SPX['$SPX'][0]-1"
     ],
     "language": "python",
     "metadata": {},
     "outputs": [
      {
       "metadata": {},
       "output_type": "pyout",
       "prompt_number": 25,
       "text": [
        "-0.18451592352076673"
       ]
      }
     ],
     "prompt_number": 25
    },
    {
     "cell_type": "code",
     "collapsed": false,
     "input": [],
     "language": "python",
     "metadata": {},
     "outputs": [],
     "prompt_number": 25
    }
   ],
   "metadata": {}
  }
 ]
}