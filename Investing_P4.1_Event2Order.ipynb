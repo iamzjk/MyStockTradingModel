{
 "metadata": {
  "name": "",
  "signature": "sha256:8e44e7aac2e681ce0663a7b3c635330cf1349e00f23c206942a2fbcee490950a"
 },
 "nbformat": 3,
 "nbformat_minor": 0,
 "worksheets": [
  {
   "cells": [
    {
     "cell_type": "code",
     "collapsed": false,
     "input": [
      "#Stock Investing with Python Part4 \n",
      "#=========Order Generator based on Events Analyzer in Part2==========\n",
      "#Jingkun Zhuang\n",
      "#iamzjk@hotmail.com"
     ],
     "language": "python",
     "metadata": {},
     "outputs": []
    },
    {
     "cell_type": "code",
     "collapsed": false,
     "input": [
      "import pandas as pd\n",
      "import numpy as np\n",
      "import datetime as dt\n",
      "import math\n",
      "import copy\n",
      "import QSTK.qstkutil.qsdateutil as du\n",
      "import QSTK.qstkutil.DataAccess as da\n",
      "import QSTK.qstkutil.tsutil as tu\n",
      "import QSTK.qstkstudy.EventProfiler as ep"
     ],
     "language": "python",
     "metadata": {},
     "outputs": [],
     "prompt_number": 45
    },
    {
     "cell_type": "code",
     "collapsed": false,
     "input": [
      "# find_events function\n",
      "def find_events(symbols,startdate,enddate):\n",
      "    '''symbols is either 'sp5002008' or 'sp5002012', date as list [year,month,day]'''\n",
      "    print 'Accessing Yahoo dataset'\n",
      "    dataobj = da.DataAccess('Yahoo')\n",
      "    print 'Getting symbols'\n",
      "    ls_symbols = dataobj.get_symbols_from_list(symbols)\n",
      "    ls_symbols.append('SPY')\n",
      "    print 'creating timestamps'\n",
      "    dt_start = dt.datetime(startdate[0],startdate[1],startdate[2])\n",
      "    dt_end = dt.datetime(enddate[0],enddate[1],enddate[2])\n",
      "    ldt_timestamps = du.getNYSEdays(dt_start,dt_end,dt.timedelta(hours=16))\n",
      "    print 'Downloading data from Yahoo'\n",
      "    ls_keys = ['open', 'high', 'low', 'close', 'volume', 'actual_close']\n",
      "    df_data = dataobj.get_data(ldt_timestamps,ls_symbols,ls_keys)\n",
      "    print 'zipping data'\n",
      "    d_data = dict(zip(ls_keys,df_data))\n",
      "    print 'fill up NANs'\n",
      "    for s_key in ls_keys:\n",
      "        d_data[s_key] = d_data[s_key].fillna(method='ffill')\n",
      "        d_data[s_key] = d_data[s_key].fillna(method='bfill')\n",
      "        d_data[s_key] = d_data[s_key].fillna(1.0)\n",
      "    print 'finding events & creating orders'\n",
      "    df_actual = d_data['actual_close']               #draw actual close price only\n",
      "    df_events = copy.deepcopy(df_actual) * np.NAN     #creat event dataframe with NAN value in the same size as df_actual\n",
      "    d_index = df_actual.index\n",
      "    # creat an empty orders dataframe. It will be filled up in later for loop and output to a csv file\n",
      "    # 6 cols: (year, month, day, symbol, act = buy/sell, #of shares)\n",
      "    df_orders = pd.DataFrame()\n",
      "    df_order = pd.DataFrame(np.zeros((2,7)),index=[0,1],columns=['year','month','day','symbol','act','shares','date'])*np.NAN\n",
      "    for sym in ls_symbols:\n",
      "        for i in range(1,len(d_index)-5):            # no chance to sell 5 days later if only 4 days left in this period\n",
      "            if df_actual[sym].ix[i-1] >= 10.0 and df_actual[sym].ix[i] < 10.0:\n",
      "                # buy right now\n",
      "                df_order.ix[0,0] = ldt_timestamps[i].date().year #year1\n",
      "                df_order.ix[0,1] = ldt_timestamps[i].date().month #month1\n",
      "                df_order.ix[0,2] = ldt_timestamps[i].date().day #day1\n",
      "                df_order.ix[0,3] = sym #symbol1\n",
      "                df_order.ix[0,4] = 'Buy' #act1\n",
      "                df_order.ix[0,5] = 100 # shares1\n",
      "                df_order.ix[0,6] = ldt_timestamps[i].date()\n",
      "                # sell 5 days later\n",
      "                df_order.ix[1,0] = ldt_timestamps[i+5].date().year\n",
      "                df_order.ix[1,1] = ldt_timestamps[i+5].date().month\n",
      "                df_order.ix[1,2] = ldt_timestamps[i+5].date().day         # i-1+5 ,sell 5 days later\n",
      "                df_order.ix[1,3] = sym\n",
      "                df_order.ix[1,4] = 'Sell'\n",
      "                df_order.ix[1,5] = 100\n",
      "                df_order.ix[1,6] = ldt_timestamps[i+5].date()\n",
      "                #print df_order\n",
      "                df_orders = df_orders.append(df_order, ignore_index = True)\n",
      "                # mark events as 1\n",
      "                df_events[sym].loc[d_index[i]] = 1\n",
      "    print 'finishing'\n",
      "    print 'writing orders to csv file'\n",
      "    df_orders = df_orders.sort('date',ascending = True)\n",
      "    df_orders.to_csv('EventsOrders.csv',header = False, index = False)\n",
      "    return (df_events,d_data,df_orders)"
     ],
     "language": "python",
     "metadata": {},
     "outputs": [],
     "prompt_number": 49
    },
    {
     "cell_type": "code",
     "collapsed": false,
     "input": [
      "# inputs\n",
      "symbols1 = 'sp5002012'\n",
      "startdate1 = [2008,1,1]\n",
      "enddate1 = [2009,12,31]"
     ],
     "language": "python",
     "metadata": {},
     "outputs": [],
     "prompt_number": 50
    },
    {
     "cell_type": "code",
     "collapsed": false,
     "input": [
      "# use function to get results\n",
      "df_events, d_data, df_orders= find_events(symbols1,startdate1,enddate1)"
     ],
     "language": "python",
     "metadata": {},
     "outputs": [
      {
       "output_type": "stream",
       "stream": "stdout",
       "text": [
        "Accessing Yahoo dataset\n",
        "Getting symbols\n",
        "creating timestamps\n",
        "Downloading data from Yahoo\n",
        "zipping data"
       ]
      },
      {
       "output_type": "stream",
       "stream": "stdout",
       "text": [
        "\n",
        "fill up NANs\n",
        "finding events & creating orders\n",
        "finishing"
       ]
      },
      {
       "output_type": "stream",
       "stream": "stdout",
       "text": [
        "\n",
        "writing orders to csv file\n"
       ]
      }
     ],
     "prompt_number": 51
    },
    {
     "cell_type": "code",
     "collapsed": false,
     "input": [
      "%pylab inline\n",
      "ep.eventprofiler(df_events, d_data, i_lookback=20, i_lookforward=20,\n",
      "                s_filename='MyEventStudy_10_2012.pdf', b_market_neutral=True, b_errorbars=True,\n",
      "                s_market_sym='SPY')"
     ],
     "language": "python",
     "metadata": {},
     "outputs": [
      {
       "output_type": "stream",
       "stream": "stdout",
       "text": [
        "Populating the interactive namespace from numpy and matplotlib\n"
       ]
      },
      {
       "output_type": "stream",
       "stream": "stderr",
       "text": [
        "WARNING: pylab import has clobbered these variables: ['copy']\n",
        "`%matplotlib` prevents importing * from pylab and numpy\n"
       ]
      },
      {
       "metadata": {},
       "output_type": "display_data",
       "png": "[encoded data removed]",
       "text": [
        "<matplotlib.figure.Figure at 0x72a6910>"
       ]
      }
     ],
     "prompt_number": 52
    },
    {
     "cell_type": "code",
     "collapsed": false,
     "input": [],
     "language": "python",
     "metadata": {},
     "outputs": []
    }
   ],
   "metadata": {}
  }
 ]
}