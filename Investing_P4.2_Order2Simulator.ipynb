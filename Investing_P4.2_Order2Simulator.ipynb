{
 "metadata": {
  "name": "",
  "signature": "sha256:5ff6b847c717df83147f1090169847724ca744dcafcf555ff81307ca3db8c6f8"
 },
 "nbformat": 3,
 "nbformat_minor": 0,
 "worksheets": [
  {
   "cells": [
    {
     "cell_type": "code",
     "collapsed": false,
     "input": [
      "#Stock Investing with Python Part4.2 \n",
      "#=========Feed orders generated from Part4 into Simulator for back test==============\n",
      "#Jingkun Zhuang\n",
      "#iamzjk@hotmail.com"
     ],
     "language": "python",
     "metadata": {},
     "outputs": []
    },
    {
     "cell_type": "code",
     "collapsed": false,
     "input": [
      "import numpy as np\n",
      "import pandas as pd\n",
      "import datetime as dt\n",
      "import matplotlib.pyplot as plt\n",
      "import copy\n",
      "\n",
      "import QSTK.qstkutil.qsdateutil as du\n",
      "import QSTK.qstkutil.tsutil as tsu\n",
      "import QSTK.qstkutil.DataAccess as da"
     ],
     "language": "python",
     "metadata": {},
     "outputs": [],
     "prompt_number": 1
    },
    {
     "cell_type": "code",
     "collapsed": false,
     "input": [
      "cash = 100000.0\n",
      "order_csv = \"EventsOrders.csv\"\n",
      "value_csv = \"EventsOrders_value.csv\""
     ],
     "language": "python",
     "metadata": {},
     "outputs": [],
     "prompt_number": 78
    },
    {
     "cell_type": "code",
     "collapsed": false,
     "input": [
      "df_raw = pd.read_csv(order_csv,header = None)\n",
      "df_order = df_raw.ix[:,:5]"
     ],
     "language": "python",
     "metadata": {},
     "outputs": [],
     "prompt_number": 79
    },
    {
     "cell_type": "code",
     "collapsed": false,
     "input": [
      "df_order.head()"
     ],
     "language": "python",
     "metadata": {},
     "outputs": [
      {
       "html": [
        "<div style=\"max-height:1000px;max-width:1500px;overflow:auto;\">\n",
        "<table border=\"1\" class=\"dataframe\">\n",
        "  <thead>\n",
        "    <tr style=\"text-align: right;\">\n",
        "      <th></th>\n",
        "      <th>0</th>\n",
        "      <th>1</th>\n",
        "      <th>2</th>\n",
        "      <th>3</th>\n",
        "      <th>4</th>\n",
        "      <th>5</th>\n",
        "    </tr>\n",
        "  </thead>\n",
        "  <tbody>\n",
        "    <tr>\n",
        "      <th>0</th>\n",
        "      <td> 2008</td>\n",
        "      <td> 1</td>\n",
        "      <td>  3</td>\n",
        "      <td> PHM</td>\n",
        "      <td>  Buy</td>\n",
        "      <td> 100</td>\n",
        "    </tr>\n",
        "    <tr>\n",
        "      <th>1</th>\n",
        "      <td> 2008</td>\n",
        "      <td> 1</td>\n",
        "      <td>  3</td>\n",
        "      <td> TER</td>\n",
        "      <td>  Buy</td>\n",
        "      <td> 100</td>\n",
        "    </tr>\n",
        "    <tr>\n",
        "      <th>2</th>\n",
        "      <td> 2008</td>\n",
        "      <td> 1</td>\n",
        "      <td> 10</td>\n",
        "      <td> PHM</td>\n",
        "      <td> Sell</td>\n",
        "      <td> 100</td>\n",
        "    </tr>\n",
        "    <tr>\n",
        "      <th>3</th>\n",
        "      <td> 2008</td>\n",
        "      <td> 1</td>\n",
        "      <td> 10</td>\n",
        "      <td> TER</td>\n",
        "      <td> Sell</td>\n",
        "      <td> 100</td>\n",
        "    </tr>\n",
        "    <tr>\n",
        "      <th>4</th>\n",
        "      <td> 2008</td>\n",
        "      <td> 1</td>\n",
        "      <td> 18</td>\n",
        "      <td>   S</td>\n",
        "      <td>  Buy</td>\n",
        "      <td> 100</td>\n",
        "    </tr>\n",
        "  </tbody>\n",
        "</table>\n",
        "</div>"
       ],
       "metadata": {},
       "output_type": "pyout",
       "prompt_number": 80,
       "text": [
        "      0  1   2    3     4    5\n",
        "0  2008  1   3  PHM   Buy  100\n",
        "1  2008  1   3  TER   Buy  100\n",
        "2  2008  1  10  PHM  Sell  100\n",
        "3  2008  1  10  TER  Sell  100\n",
        "4  2008  1  18    S   Buy  100"
       ]
      }
     ],
     "prompt_number": 80
    },
    {
     "cell_type": "code",
     "collapsed": false,
     "input": [
      "ls_symbols = list(set(df_order.ix[:,3]))+['cash']"
     ],
     "language": "python",
     "metadata": {},
     "outputs": [],
     "prompt_number": 81
    },
    {
     "cell_type": "code",
     "collapsed": false,
     "input": [
      "len(ls_symbols)-1"
     ],
     "language": "python",
     "metadata": {},
     "outputs": [
      {
       "metadata": {},
       "output_type": "pyout",
       "prompt_number": 82,
       "text": [
        "104"
       ]
      }
     ],
     "prompt_number": 82
    },
    {
     "cell_type": "code",
     "collapsed": false,
     "input": [
      "dataobj = da.DataAccess('Yahoo')\n",
      "dt_start = dt.datetime(int(df_order.ix[0,0]),int(df_order.ix[0,1]),int(df_order.ix[0,2]))\n",
      "dt_last = dt.datetime(int(df_order.iloc[-1,0]),int(df_order.iloc[-1,1]),int(df_order.iloc[-1,2]))\n",
      "dt_end = dt_last + dt.timedelta(days=1)\n",
      "dt_timeofday = dt.timedelta(hours = 16)\n",
      "ldt_timestamps = du.getNYSEdays(dt_start,dt_end,dt_timeofday)"
     ],
     "language": "python",
     "metadata": {},
     "outputs": [],
     "prompt_number": 83
    },
    {
     "cell_type": "code",
     "collapsed": false,
     "input": [
      "ldt_timestamps[:5]"
     ],
     "language": "python",
     "metadata": {},
     "outputs": [
      {
       "metadata": {},
       "output_type": "pyout",
       "prompt_number": 84,
       "text": [
        "[Timestamp('2008-01-03 16:00:00'),\n",
        " Timestamp('2008-01-04 16:00:00'),\n",
        " Timestamp('2008-01-07 16:00:00'),\n",
        " Timestamp('2008-01-08 16:00:00'),\n",
        " Timestamp('2008-01-09 16:00:00')]"
       ]
      }
     ],
     "prompt_number": 84
    },
    {
     "cell_type": "code",
     "collapsed": false,
     "input": [
      "df_close1 = dataobj.get_data(ldt_timestamps, ls_symbols, 'close')\n",
      "df_close1 = df_close1.fillna(method = 'ffill')\n",
      "df_close1 = df_close1.fillna(method = 'bfill')\n",
      "df_close1 = df_close1.fillna(1.0)\n",
      "df_close = df_close1"
     ],
     "language": "python",
     "metadata": {},
     "outputs": [
      {
       "output_type": "stream",
       "stream": "stdout",
       "text": [
        "Did not find path to cash. Looks like this file is missing\n"
       ]
      }
     ],
     "prompt_number": 85
    },
    {
     "cell_type": "code",
     "collapsed": false,
     "input": [
      "df_close.to_csv('df_close.csv')\n",
      "print df_close['AIG']"
     ],
     "language": "python",
     "metadata": {},
     "outputs": [
      {
       "output_type": "stream",
       "stream": "stdout",
       "text": [
        "2008-01-03 16:00:00    927.25\n",
        "2008-01-04 16:00:00    908.36\n",
        "2008-01-07 16:00:00    924.79\n",
        "2008-01-08 16:00:00    912.47\n",
        "2008-01-09 16:00:00    927.75\n",
        "2008-01-10 16:00:00    949.59\n",
        "2008-01-11 16:00:00    947.46\n",
        "2008-01-14 16:00:00    974.40\n",
        "2008-01-15 16:00:00    950.41\n",
        "2008-01-16 16:00:00    951.24\n",
        "2008-01-17 16:00:00    891.44\n",
        "2008-01-18 16:00:00    854.98\n",
        "2008-01-22 16:00:00    860.89\n",
        "2008-01-23 16:00:00    900.32\n",
        "2008-01-24 16:00:00    904.09\n",
        "...\n",
        "2009-12-02 16:00:00    26.13\n",
        "2009-12-03 16:00:00    25.05\n",
        "2009-12-04 16:00:00    25.24\n",
        "2009-12-07 16:00:00    25.28\n",
        "2009-12-08 16:00:00    25.13\n",
        "2009-12-09 16:00:00    24.85\n",
        "2009-12-10 16:00:00    24.24\n",
        "2009-12-11 16:00:00    23.77\n",
        "2009-12-14 16:00:00    24.37\n",
        "2009-12-15 16:00:00    24.24\n",
        "2009-12-16 16:00:00    24.26\n",
        "2009-12-17 16:00:00    23.64\n",
        "2009-12-18 16:00:00    23.62\n",
        "2009-12-21 16:00:00    23.51\n",
        "2009-12-22 16:00:00    26.02\n",
        "Name: AIG, Length: 498\n"
       ]
      }
     ],
     "prompt_number": 86
    },
    {
     "cell_type": "code",
     "collapsed": false,
     "input": [
      "df_trades = copy.deepcopy(df_close)\n",
      "df_trades = df_trades * 0.0"
     ],
     "language": "python",
     "metadata": {},
     "outputs": [],
     "prompt_number": 87
    },
    {
     "cell_type": "code",
     "collapsed": false,
     "input": [
      "ar_order = df_order.values\n",
      "ar_order[:,0:3] = ar_order[:,0:3].astype(int)\n",
      "ar_order[:,5] = ar_order[:,5]*1.0\n",
      "ar_order"
     ],
     "language": "python",
     "metadata": {},
     "outputs": [
      {
       "metadata": {},
       "output_type": "pyout",
       "prompt_number": 88,
       "text": [
        "array([[2008, 1, 3, 'PHM', 'Buy', 100.0],\n",
        "       [2008, 1, 3, 'TER', 'Buy', 100.0],\n",
        "       [2008, 1, 10, 'PHM', 'Sell', 100.0],\n",
        "       ..., \n",
        "       [2009, 12, 15, 'TIE', 'Sell', 100.0],\n",
        "       [2009, 12, 22, 'DHI', 'Sell', 100.0],\n",
        "       [2009, 12, 22, 'FITB', 'Sell', 100.0]], dtype=object)"
       ]
      }
     ],
     "prompt_number": 88
    },
    {
     "cell_type": "code",
     "collapsed": false,
     "input": [
      "df_trades1 = copy.deepcopy(df_trades)\n",
      "df_trades1['cash'][0]=cash\n",
      "#print df_trades1\n",
      "for i in range(0,len(ldt_timestamps)):\n",
      "    for j in range(0,len(ar_order)):\n",
      "        if (dt.datetime(ar_order[j,0],ar_order[j,1],ar_order[j,2]).date() == ldt_timestamps[i].date()) & (ar_order[j,4] == 'Buy'):\n",
      "            df_trades1[str(ar_order[j,3])][i] += ar_order[j,5]\n",
      "            df_trades1['cash'][i] -= ar_order[j,5] * df_close[str(ar_order[j,3])][i]\n",
      "        elif (dt.datetime(ar_order[j,0],ar_order[j,1],ar_order[j,2]).date() == ldt_timestamps[i].date()) & (ar_order[j,4] == 'Sell'):\n",
      "            df_trades1[ar_order[j,3]][i] -= ar_order[j,5]\n",
      "            df_trades1['cash'][i] += ar_order[j,5] * df_close[str(ar_order[j,3])][i]\n",
      "for sym in ls_symbols:\n",
      "    base = df_trades1[sym][0]\n",
      "    for i in range(1,len(ldt_timestamps)):\n",
      "        base += df_trades1[sym][i]\n",
      "        df_trades1[sym][i] = base\n",
      "#print df_trades1.head\n",
      "df_trades1.to_csv('df_trades1.csv')"
     ],
     "language": "python",
     "metadata": {},
     "outputs": [],
     "prompt_number": 89
    },
    {
     "cell_type": "code",
     "collapsed": false,
     "input": [
      "#df_close.to_csv('df_close.csv')\n",
      "df_sum = pd.DataFrame()\n",
      "#for sym in ls_symbols:\n",
      "    #print sym\n",
      "df_sum = df_trades1 * df_close\n",
      "df_sum.to_csv('df_sum.csv')\n",
      "df_trades1['total_value'] = df_sum.sum(axis=1)\n",
      "#print df_trades1.head()"
     ],
     "language": "python",
     "metadata": {},
     "outputs": [],
     "prompt_number": 90
    },
    {
     "cell_type": "code",
     "collapsed": false,
     "input": [
      "'''\n",
      "xdate = [2011,9,26]\n",
      "for i in range(0,len(ldt_timestamps)):\n",
      "    if ldt_timestamps[i].date() == dt.datetime(xdate[0],xdate[1],xdate[2]).date():\n",
      "        xx = df_trades1['total_value'][i]\n",
      "        yy = ldt_timestamps[i]\n",
      "'''"
     ],
     "language": "python",
     "metadata": {},
     "outputs": [
      {
       "metadata": {},
       "output_type": "pyout",
       "prompt_number": 91,
       "text": [
        "\"\\nxdate = [2011,9,26]\\nfor i in range(0,len(ldt_timestamps)):\\n    if ldt_timestamps[i].date() == dt.datetime(xdate[0],xdate[1],xdate[2]).date():\\n        xx = df_trades1['total_value'][i]\\n        yy = ldt_timestamps[i]\\n\""
       ]
      }
     ],
     "prompt_number": 91
    },
    {
     "cell_type": "code",
     "collapsed": false,
     "input": [
      "# write result to value.csv\n",
      "#value_csv = \"F:\\\\kp\\\\Rutgers\\\\2014Fall\\\\ComputationalInvesting\\\\HW3\\\\Orders-files\\\\value1.csv\"\n",
      "df_trades1.to_csv('value.csv')"
     ],
     "language": "python",
     "metadata": {},
     "outputs": [],
     "prompt_number": 92
    },
    {
     "cell_type": "code",
     "collapsed": false,
     "input": [
      "df_trades1['total_value_nor'] = df_trades1['total_value']/(df_trades1['total_value'][0])"
     ],
     "language": "python",
     "metadata": {},
     "outputs": [],
     "prompt_number": 93
    },
    {
     "cell_type": "code",
     "collapsed": false,
     "input": [
      "df_trades1['daily_ret'] = df_trades1['total_value_nor']/df_trades1['total_value_nor'].shift(1)-1\n",
      "df_trades1['daily_ret'][0] = 0.0\n",
      "print df_trades1"
     ],
     "language": "python",
     "metadata": {},
     "outputs": [
      {
       "output_type": "stream",
       "stream": "stdout",
       "text": [
        "                     WDC  DNR  JWN  CCE  TIE  RF  MYL  HST  GT  FITB  \\\n",
        "2008-01-03 16:00:00    0    0    0    0    0   0    0    0   0     0   \n",
        "2008-01-04 16:00:00    0    0    0    0    0   0    0    0   0     0   \n",
        "2008-01-07 16:00:00    0    0    0    0    0   0    0    0   0     0   \n",
        "2008-01-08 16:00:00    0    0    0    0    0   0    0    0   0     0   \n",
        "2008-01-09 16:00:00    0    0    0    0    0   0    0    0   0     0   \n",
        "2008-01-10 16:00:00    0    0    0    0    0   0    0    0   0     0   \n",
        "2008-01-11 16:00:00    0    0    0    0    0   0    0    0   0     0   \n",
        "2008-01-14 16:00:00    0    0    0    0    0   0    0    0   0     0   \n",
        "2008-01-15 16:00:00    0    0    0    0    0   0    0    0   0     0   \n",
        "2008-01-16 16:00:00    0    0    0    0    0   0    0    0   0     0   \n",
        "2008-01-17 16:00:00    0    0    0    0    0   0    0    0   0     0   \n",
        "2008-01-18 16:00:00    0    0    0    0    0   0    0    0   0     0   \n",
        "2008-01-22 16:00:00    0    0    0    0    0   0    0    0   0     0   \n",
        "2008-01-23 16:00:00    0    0    0    0    0   0    0    0   0     0   \n",
        "2008-01-24 16:00:00    0    0    0    0    0   0    0    0   0     0   \n",
        "2008-01-25 16:00:00    0    0    0    0    0   0    0    0   0     0   \n",
        "2008-01-28 16:00:00    0    0    0    0    0   0    0    0   0     0   \n",
        "2008-01-29 16:00:00    0    0    0    0    0   0    0    0   0     0   \n",
        "2008-01-30 16:00:00    0    0    0    0    0   0    0    0   0     0   \n",
        "2008-01-31 16:00:00    0    0    0    0    0   0    0    0   0     0   \n",
        "2008-02-01 16:00:00    0    0    0    0    0   0    0    0   0     0   \n",
        "2008-02-04 16:00:00    0    0    0    0    0   0    0    0   0     0   \n",
        "2008-02-05 16:00:00    0    0    0    0    0   0    0    0   0     0   \n",
        "2008-02-06 16:00:00    0    0    0    0    0   0    0    0   0     0   \n",
        "2008-02-07 16:00:00    0    0    0    0    0   0    0    0   0     0   \n",
        "2008-02-08 16:00:00    0    0    0    0    0   0    0    0   0     0   \n",
        "2008-02-11 16:00:00    0    0    0    0    0   0    0    0   0     0   \n",
        "2008-02-12 16:00:00    0    0    0    0    0   0    0    0   0     0   \n",
        "2008-02-13 16:00:00    0    0    0    0    0   0    0    0   0     0   \n",
        "2008-02-14 16:00:00    0    0    0    0    0   0    0    0   0     0   \n",
        "...                  ...  ...  ...  ...  ...  ..  ...  ...  ..   ...   \n",
        "2009-11-10 16:00:00    0    0    0    0    0   0    0  200   0     0   \n",
        "2009-11-11 16:00:00    0    0    0    0    0   0    0  100   0     0   \n",
        "2009-11-12 16:00:00    0    0    0    0    0   0    0  100   0     0   \n",
        "2009-11-13 16:00:00    0    0    0    0    0   0    0    0   0     0   \n",
        "2009-11-16 16:00:00    0    0    0    0    0   0    0    0   0     0   \n",
        "2009-11-17 16:00:00    0    0    0    0    0   0    0    0   0     0   \n",
        "2009-11-18 16:00:00    0    0    0    0    0   0    0    0   0     0   \n",
        "2009-11-19 16:00:00    0    0    0    0  100   0    0    0   0     0   \n",
        "2009-11-20 16:00:00    0    0    0    0  100   0    0    0   0   100   \n",
        "2009-11-23 16:00:00    0    0    0    0  100   0    0    0   0   100   \n",
        "2009-11-24 16:00:00    0    0    0    0  100   0    0    0   0   100   \n",
        "2009-11-25 16:00:00    0    0    0    0  100   0    0    0   0   200   \n",
        "2009-11-27 16:00:00    0    0    0    0  100   0    0    0   0   200   \n",
        "2009-11-30 16:00:00    0    0    0    0  100   0    0    0   0   100   \n",
        "2009-12-01 16:00:00    0    0    0    0  100   0    0    0   0   100   \n",
        "2009-12-02 16:00:00    0    0    0    0  100   0    0    0   0   100   \n",
        "2009-12-03 16:00:00    0    0    0    0  100   0    0    0   0     0   \n",
        "2009-12-04 16:00:00    0    0    0    0    0   0    0    0   0     0   \n",
        "2009-12-07 16:00:00    0    0    0    0    0   0    0    0   0     0   \n",
        "2009-12-08 16:00:00    0    0    0    0  100   0    0    0   0     0   \n",
        "2009-12-09 16:00:00    0    0    0    0  100   0    0    0   0     0   \n",
        "2009-12-10 16:00:00    0    0    0    0  100   0    0    0   0     0   \n",
        "2009-12-11 16:00:00    0    0    0    0  100   0    0    0   0     0   \n",
        "2009-12-14 16:00:00    0    0    0    0  100   0    0    0   0     0   \n",
        "2009-12-15 16:00:00    0    0    0    0    0   0    0    0   0   100   \n",
        "2009-12-16 16:00:00    0    0    0    0    0   0    0    0   0   100   \n",
        "2009-12-17 16:00:00    0    0    0    0    0   0    0    0   0   100   \n",
        "2009-12-18 16:00:00    0    0    0    0    0   0    0    0   0   100   \n",
        "2009-12-21 16:00:00    0    0    0    0    0   0    0    0   0   100   \n",
        "2009-12-22 16:00:00    0    0    0    0    0   0    0    0   0     0   \n",
        "\n",
        "                       ...      AN  SLM  HOT  STX  JCI  PFG   cash  \\\n",
        "2008-01-03 16:00:00    ...       0    0    0    0    0    0  48044   \n",
        "2008-01-04 16:00:00    ...       0    0    0    0    0    0  48044   \n",
        "2008-01-07 16:00:00    ...       0    0    0    0    0    0  48044   \n",
        "2008-01-08 16:00:00    ...       0    0    0    0    0    0  48044   \n",
        "2008-01-09 16:00:00    ...       0    0    0    0    0    0  48044   \n",
        "2008-01-10 16:00:00    ...       0    0    0    0    0    0  49879   \n",
        "2008-01-11 16:00:00    ...       0    0    0    0    0    0  49879   \n",
        "2008-01-14 16:00:00    ...       0    0    0    0    0    0  49879   \n",
        "2008-01-15 16:00:00    ...       0    0    0    0    0    0  49879   \n",
        "2008-01-16 16:00:00    ...       0    0    0    0    0    0  49879   \n",
        "2008-01-17 16:00:00    ...       0    0    0    0    0    0  49879   \n",
        "2008-01-18 16:00:00    ...       0    0    0    0    0    0  49009   \n",
        "2008-01-22 16:00:00    ...       0    0    0    0    0    0  49009   \n",
        "2008-01-23 16:00:00    ...       0    0    0    0    0    0  49009   \n",
        "2008-01-24 16:00:00    ...       0    0    0    0    0    0  49009   \n",
        "2008-01-25 16:00:00    ...       0    0    0    0    0    0  49009   \n",
        "2008-01-28 16:00:00    ...       0    0    0    0    0    0  50006   \n",
        "2008-01-29 16:00:00    ...       0    0    0    0    0    0  50006   \n",
        "2008-01-30 16:00:00    ...       0    0    0    0    0    0  50006   \n",
        "2008-01-31 16:00:00    ...       0    0    0    0    0    0  50006   \n",
        "2008-02-01 16:00:00    ...       0    0    0    0    0    0  50006   \n",
        "2008-02-04 16:00:00    ...       0    0    0    0    0    0  50006   \n",
        "2008-02-05 16:00:00    ...       0    0    0    0    0    0  49019   \n",
        "2008-02-06 16:00:00    ...       0    0    0    0    0    0  49019   \n",
        "2008-02-07 16:00:00    ...       0    0    0    0    0    0  49019   \n",
        "2008-02-08 16:00:00    ...       0    0    0    0    0    0  49019   \n",
        "2008-02-11 16:00:00    ...       0    0    0    0    0    0  49019   \n",
        "2008-02-12 16:00:00    ...       0    0    0    0    0    0  50018   \n",
        "2008-02-13 16:00:00    ...       0    0    0    0    0    0  50018   \n",
        "2008-02-14 16:00:00    ...       0    0    0    0    0    0  49049   \n",
        "...                    ...      ..  ...  ...  ...  ...  ...    ...   \n",
        "2009-11-10 16:00:00    ...       0    0    0    0    0    0  57040   \n",
        "2009-11-11 16:00:00    ...       0    0    0    0    0    0  58083   \n",
        "2009-11-12 16:00:00    ...       0    0    0    0    0    0  56321   \n",
        "2009-11-13 16:00:00    ...       0    0    0    0    0    0  57361   \n",
        "2009-11-16 16:00:00    ...       0    0    0    0    0    0  57361   \n",
        "2009-11-17 16:00:00    ...       0    0    0    0    0    0  57361   \n",
        "2009-11-18 16:00:00    ...       0    0    0    0    0    0  57361   \n",
        "2009-11-19 16:00:00    ...       0    0    0    0    0    0  57197   \n",
        "2009-11-20 16:00:00    ...       0    0    0    0    0    0  56238   \n",
        "2009-11-23 16:00:00    ...       0    0    0    0    0    0  56238   \n",
        "2009-11-24 16:00:00    ...       0    0    0    0    0    0  56238   \n",
        "2009-11-25 16:00:00    ...       0    0    0    0    0    0  55282   \n",
        "2009-11-27 16:00:00    ...       0    0    0    0    0    0  56193   \n",
        "2009-11-30 16:00:00    ...       0    0    0    0    0    0  55458   \n",
        "2009-12-01 16:00:00    ...       0    0    0    0    0    0  55458   \n",
        "2009-12-02 16:00:00    ...       0    0    0    0    0    0  54544   \n",
        "2009-12-03 16:00:00    ...       0    0    0    0    0    0  55536   \n",
        "2009-12-04 16:00:00    ...       0    0    0    0    0    0  56508   \n",
        "2009-12-07 16:00:00    ...       0    0    0    0    0    0  57431   \n",
        "2009-12-08 16:00:00    ...       0    0    0    0    0    0  56469   \n",
        "2009-12-09 16:00:00    ...       0    0    0    0    0    0  57584   \n",
        "2009-12-10 16:00:00    ...       0    0    0    0    0    0  57584   \n",
        "2009-12-11 16:00:00    ...       0    0    0    0    0    0  57584   \n",
        "2009-12-14 16:00:00    ...       0    0    0    0    0    0  58558   \n",
        "2009-12-15 16:00:00    ...       0    0    0    0    0    0  57742   \n",
        "2009-12-16 16:00:00    ...       0    0    0    0    0    0  57742   \n",
        "2009-12-17 16:00:00    ...       0    0    0    0    0    0  57742   \n",
        "2009-12-18 16:00:00    ...       0    0    0    0    0    0  57742   \n",
        "2009-12-21 16:00:00    ...       0    0    0    0    0    0  57742   \n",
        "2009-12-22 16:00:00    ...       0    0    0    0    0    0  59801   \n",
        "\n",
        "                     total_value  total_value_nor  daily_ret  \n",
        "2008-01-03 16:00:00        50000          1.00000   0.000000  \n",
        "2008-01-04 16:00:00        49892          0.99784  -0.002160  \n",
        "2008-01-07 16:00:00        49881          0.99762  -0.000220  \n",
        "2008-01-08 16:00:00        49800          0.99600  -0.001624  \n",
        "2008-01-09 16:00:00        49814          0.99628   0.000281  \n",
        "2008-01-10 16:00:00        49879          0.99758   0.001305  \n",
        "2008-01-11 16:00:00        49879          0.99758   0.000000  \n",
        "2008-01-14 16:00:00        49879          0.99758   0.000000  \n",
        "2008-01-15 16:00:00        49879          0.99758   0.000000  \n",
        "2008-01-16 16:00:00        49879          0.99758   0.000000  \n",
        "2008-01-17 16:00:00        49879          0.99758   0.000000  \n",
        "2008-01-18 16:00:00        49879          0.99758   0.000000  \n",
        "2008-01-22 16:00:00        49889          0.99778   0.000200  \n",
        "2008-01-23 16:00:00        49881          0.99762  -0.000160  \n",
        "2008-01-24 16:00:00        49918          0.99836   0.000742  \n",
        "2008-01-25 16:00:00        49947          0.99894   0.000581  \n",
        "2008-01-28 16:00:00        50006          1.00012   0.001181  \n",
        "2008-01-29 16:00:00        50006          1.00012   0.000000  \n",
        "2008-01-30 16:00:00        50006          1.00012   0.000000  \n",
        "2008-01-31 16:00:00        50006          1.00012   0.000000  \n",
        "2008-02-01 16:00:00        50006          1.00012   0.000000  \n",
        "2008-02-04 16:00:00        50006          1.00012   0.000000  \n",
        "2008-02-05 16:00:00        50006          1.00012   0.000000  \n",
        "2008-02-06 16:00:00        49981          0.99962  -0.000500  \n",
        "2008-02-07 16:00:00        49975          0.99950  -0.000120  \n",
        "2008-02-08 16:00:00        49963          0.99926  -0.000240  \n",
        "2008-02-11 16:00:00        49992          0.99984   0.000580  \n",
        "2008-02-12 16:00:00        50018          1.00036   0.000520  \n",
        "2008-02-13 16:00:00        50018          1.00036   0.000000  \n",
        "2008-02-14 16:00:00        50018          1.00036   0.000000  \n",
        "...                          ...              ...        ...  \n",
        "2009-11-10 16:00:00        59100          1.18200  -0.000169  \n",
        "2009-11-11 16:00:00        59126          1.18252   0.000440  \n",
        "2009-11-12 16:00:00        59125          1.18250  -0.000017  \n",
        "2009-11-13 16:00:00        59118          1.18236  -0.000118  \n",
        "2009-11-16 16:00:00        59138          1.18276   0.000338  \n",
        "2009-11-17 16:00:00        59118          1.18236  -0.000338  \n",
        "2009-11-18 16:00:00        59160          1.18320   0.000710  \n",
        "2009-11-19 16:00:00        59139          1.18278  -0.000355  \n",
        "2009-11-20 16:00:00        59107          1.18214  -0.000541  \n",
        "2009-11-23 16:00:00        59140          1.18280   0.000558  \n",
        "2009-11-24 16:00:00        59102          1.18204  -0.000643  \n",
        "2009-11-25 16:00:00        59122          1.18244   0.000338  \n",
        "2009-11-27 16:00:00        58987          1.17974  -0.002283  \n",
        "2009-11-30 16:00:00        59077          1.18154   0.001526  \n",
        "2009-12-01 16:00:00        59138          1.18276   0.001033  \n",
        "2009-12-02 16:00:00        59211          1.18422   0.001234  \n",
        "2009-12-03 16:00:00        59174          1.18348  -0.000625  \n",
        "2009-12-04 16:00:00        59257          1.18514   0.001403  \n",
        "2009-12-07 16:00:00        59415          1.18830   0.002666  \n",
        "2009-12-08 16:00:00        59476          1.18952   0.001027  \n",
        "2009-12-09 16:00:00        59517          1.19034   0.000689  \n",
        "2009-12-10 16:00:00        59527          1.19054   0.000168  \n",
        "2009-12-11 16:00:00        59560          1.19120   0.000554  \n",
        "2009-12-14 16:00:00        59645          1.19290   0.001427  \n",
        "2009-12-15 16:00:00        59633          1.19266  -0.000201  \n",
        "2009-12-16 16:00:00        59662          1.19324   0.000486  \n",
        "2009-12-17 16:00:00        59651          1.19302  -0.000184  \n",
        "2009-12-18 16:00:00        59704          1.19408   0.000889  \n",
        "2009-12-21 16:00:00        59759          1.19518   0.000921  \n",
        "2009-12-22 16:00:00        59801          1.19602   0.000703  \n",
        "\n",
        "[498 rows x 108 columns]\n"
       ]
      }
     ],
     "prompt_number": 94
    },
    {
     "cell_type": "code",
     "collapsed": false,
     "input": [
      "pt_std = np.std(df_trades1['daily_ret'])\n",
      "pt_ave_ret = np.average(df_trades1['daily_ret'])\n",
      "pt_sharpe = np.sqrt(252)*pt_ave_ret/pt_std\n",
      "pt_cum = df_trades1['total_value_nor'][-1]\n",
      "pt_std, pt_ave_ret, pt_sharpe, pt_cum"
     ],
     "language": "python",
     "metadata": {},
     "outputs": [
      {
       "metadata": {},
       "output_type": "pyout",
       "prompt_number": 95,
       "text": [
        "(0.010887891584619809,\n",
        " 0.00041884921798291357,\n",
        " 0.61068069552533188,\n",
        " 1.1960200000000001)"
       ]
      }
     ],
     "prompt_number": 95
    },
    {
     "cell_type": "code",
     "collapsed": false,
     "input": [
      "df_close_SPX = dataobj.get_data(ldt_timestamps, ['$SPX'], 'close')"
     ],
     "language": "python",
     "metadata": {},
     "outputs": [],
     "prompt_number": 96
    },
    {
     "cell_type": "code",
     "collapsed": false,
     "input": [
      "df_close_SPX['$SPX_nor'] = df_close_SPX['$SPX']/df_close_SPX['$SPX'][0]\n",
      "df_close_SPX['$SPX_daily'] = df_close_SPX['$SPX']/df_close_SPX['$SPX'].shift(1)-1\n",
      "df_close_SPX['$SPX_daily'][0] = 0.0\n",
      "print df_close_SPX"
     ],
     "language": "python",
     "metadata": {},
     "outputs": [
      {
       "output_type": "stream",
       "stream": "stdout",
       "text": [
        "                        $SPX  $SPX_nor  $SPX_daily\n",
        "2008-01-03 16:00:00  1447.16  1.000000    0.000000\n",
        "2008-01-04 16:00:00  1411.63  0.975448   -0.024552\n",
        "2008-01-07 16:00:00  1416.18  0.978593    0.003223\n",
        "2008-01-08 16:00:00  1390.19  0.960633   -0.018352\n",
        "2008-01-09 16:00:00  1409.13  0.973721    0.013624\n",
        "2008-01-10 16:00:00  1420.33  0.981460    0.007948\n",
        "2008-01-11 16:00:00  1401.02  0.968117   -0.013595\n",
        "2008-01-14 16:00:00  1416.25  0.978641    0.010871\n",
        "2008-01-15 16:00:00  1380.95  0.954248   -0.024925\n",
        "2008-01-16 16:00:00  1373.20  0.948893   -0.005612\n",
        "2008-01-17 16:00:00  1333.25  0.921287   -0.029093\n",
        "2008-01-18 16:00:00  1325.19  0.915718   -0.006045\n",
        "2008-01-22 16:00:00  1310.50  0.905567   -0.011085\n",
        "2008-01-23 16:00:00  1338.60  0.924984    0.021442\n",
        "2008-01-24 16:00:00  1352.07  0.934292    0.010063\n",
        "2008-01-25 16:00:00  1330.61  0.919463   -0.015872\n",
        "2008-01-28 16:00:00  1353.96  0.935598    0.017548\n",
        "2008-01-29 16:00:00  1362.30  0.941361    0.006160\n",
        "2008-01-30 16:00:00  1355.81  0.936876   -0.004764\n",
        "2008-01-31 16:00:00  1378.55  0.952590    0.016772\n",
        "2008-02-01 16:00:00  1395.42  0.964247    0.012237\n",
        "2008-02-04 16:00:00  1380.82  0.954158   -0.010463\n",
        "2008-02-05 16:00:00  1336.64  0.923630   -0.031995\n",
        "2008-02-06 16:00:00  1326.45  0.916588   -0.007624\n",
        "2008-02-07 16:00:00  1336.91  0.923816    0.007886\n",
        "2008-02-08 16:00:00  1331.29  0.919933   -0.004204\n",
        "2008-02-11 16:00:00  1339.13  0.925350    0.005889\n",
        "2008-02-12 16:00:00  1348.86  0.932074    0.007266\n",
        "2008-02-13 16:00:00  1367.21  0.944754    0.013604\n",
        "2008-02-14 16:00:00  1348.86  0.932074   -0.013421\n",
        "...                      ...       ...         ...\n",
        "2009-11-10 16:00:00  1093.01  0.755279   -0.000064\n",
        "2009-11-11 16:00:00  1098.51  0.759080    0.005032\n",
        "2009-11-12 16:00:00  1087.24  0.751292   -0.010259\n",
        "2009-11-13 16:00:00  1093.48  0.755604    0.005739\n",
        "2009-11-16 16:00:00  1109.30  0.766536    0.014468\n",
        "2009-11-17 16:00:00  1110.32  0.767241    0.000919\n",
        "2009-11-18 16:00:00  1109.80  0.766881   -0.000468\n",
        "2009-11-19 16:00:00  1094.90  0.756585   -0.013426\n",
        "2009-11-20 16:00:00  1091.38  0.754153   -0.003215\n",
        "2009-11-23 16:00:00  1106.24  0.764421    0.013616\n",
        "2009-11-24 16:00:00  1105.65  0.764014   -0.000533\n",
        "2009-11-25 16:00:00  1110.63  0.767455    0.004504\n",
        "2009-11-27 16:00:00  1091.49  0.754229   -0.017233\n",
        "2009-11-30 16:00:00  1095.63  0.757090    0.003793\n",
        "2009-12-01 16:00:00  1108.86  0.766232    0.012075\n",
        "2009-12-02 16:00:00  1109.24  0.766494    0.000343\n",
        "2009-12-03 16:00:00  1099.92  0.760054   -0.008402\n",
        "2009-12-04 16:00:00  1105.98  0.764242    0.005509\n",
        "2009-12-07 16:00:00  1103.25  0.762355   -0.002468\n",
        "2009-12-08 16:00:00  1091.94  0.754540   -0.010252\n",
        "2009-12-09 16:00:00  1095.95  0.757311    0.003672\n",
        "2009-12-10 16:00:00  1102.35  0.761733    0.005840\n",
        "2009-12-11 16:00:00  1106.41  0.764539    0.003683\n",
        "2009-12-14 16:00:00  1114.11  0.769860    0.006959\n",
        "2009-12-15 16:00:00  1107.93  0.765589   -0.005547\n",
        "2009-12-16 16:00:00  1109.18  0.766453    0.001128\n",
        "2009-12-17 16:00:00  1096.08  0.757401   -0.011811\n",
        "2009-12-18 16:00:00  1102.47  0.761816    0.005830\n",
        "2009-12-21 16:00:00  1114.05  0.769818    0.010504\n",
        "2009-12-22 16:00:00  1118.02  0.772561    0.003564\n",
        "\n",
        "[498 rows x 3 columns]\n"
       ]
      }
     ],
     "prompt_number": 97
    },
    {
     "cell_type": "code",
     "collapsed": false,
     "input": [
      "SPX_std = np.std(df_close_SPX['$SPX_daily'])\n",
      "SPX_ave_ret = np.average(df_close_SPX['$SPX_daily'])\n",
      "SPX_sharpe = np.sqrt(252)*SPX_ave_ret/SPX_std\n",
      "SPX_cum = df_close_SPX['$SPX_nor'][-1]"
     ],
     "language": "python",
     "metadata": {},
     "outputs": [],
     "prompt_number": 98
    },
    {
     "cell_type": "code",
     "collapsed": false,
     "input": [
      "pd.options.display.mpl_style = 'default'\n",
      "%matplotlib inline\n",
      "pt = df_trades1['total_value']\n",
      "SPX = df_close_SPX['$SPX_nor']*50000\n",
      "df_plot = pd.concat([pt,SPX],axis=1)\n",
      "pic = df_plot.plot()\n",
      "pic.set_ylabel('fund value')\n",
      "pic.set_xlabel('date')\n",
      "pic.legend(loc = 'lower left')"
     ],
     "language": "python",
     "metadata": {},
     "outputs": [
      {
       "metadata": {},
       "output_type": "pyout",
       "prompt_number": 99,
       "text": [
        "<matplotlib.legend.Legend at 0x3e5a350>"
       ]
      },
      {
       "metadata": {},
       "output_type": "display_data",
       "png": "[encoded data removed]",
       "text": [
        "<matplotlib.figure.Figure at 0x4953690>"
       ]
      }
     ],
     "prompt_number": 99
    },
    {
     "cell_type": "code",
     "collapsed": false,
     "input": [
      "print SPX_std, SPX_ave_ret, SPX_sharpe, SPX_cum\n",
      "print pt_std, pt_ave_ret, pt_sharpe, pt_cum"
     ],
     "language": "python",
     "metadata": {},
     "outputs": [
      {
       "output_type": "stream",
       "stream": "stdout",
       "text": [
        "0.0220690337897 -0.000274360572461 -0.197350690895 0.772561430664\n",
        "0.0108878915846 0.000418849217983 0.610680695525 1.19602\n"
       ]
      }
     ],
     "prompt_number": 100
    },
    {
     "cell_type": "code",
     "collapsed": false,
     "input": [],
     "language": "python",
     "metadata": {},
     "outputs": [],
     "prompt_number": 100
    }
   ],
   "metadata": {}
  }
 ]
}