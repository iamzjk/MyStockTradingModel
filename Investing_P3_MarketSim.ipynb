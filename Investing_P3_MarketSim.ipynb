{
 "metadata": {
  "name": "",
  "signature": "sha256:94046e0e1bd176c69ff9019fb1fbeafc52d292eef71622e9e025388fbefd9e4c"
 },
 "nbformat": 3,
 "nbformat_minor": 0,
 "worksheets": [
  {
   "cells": [
    {
     "cell_type": "code",
     "collapsed": false,
     "input": [
      "#Stock Investing with Python Part3 \n",
      "#===========Market Simulation==========\n",
      "#Jingkun Zhuang\n",
      "#iamzjk@hotmail.com"
     ],
     "language": "python",
     "metadata": {},
     "outputs": []
    },
    {
     "cell_type": "code",
     "collapsed": false,
     "input": [
      "import numpy as np\n",
      "import pandas as pd\n",
      "import datetime as dt\n",
      "import matplotlib.pyplot as plt\n",
      "import copy\n",
      "\n",
      "import QSTK.qstkutil.qsdateutil as du\n",
      "import QSTK.qstkutil.tsutil as tsu\n",
      "import QSTK.qstkutil.DataAccess as da"
     ],
     "language": "python",
     "metadata": {},
     "outputs": [],
     "prompt_number": 5
    },
    {
     "cell_type": "code",
     "collapsed": false,
     "input": [
      "cash = 50000.0\n",
      "order_csv = \"F:\\\\kp\\\\Rutgers\\\\2014Fall\\\\ComputationalInvesting\\\\HW3\\\\Orders-files\\\\orders2.csv\"\n",
      "value_csv = \"F:\\\\kp\\\\Rutgers\\\\2014Fall\\\\ComputationalInvesting\\\\HW3\\\\Orders-files\\\\MyOutputs\\\\value.csv\""
     ],
     "language": "python",
     "metadata": {},
     "outputs": [],
     "prompt_number": 6
    },
    {
     "cell_type": "code",
     "collapsed": false,
     "input": [
      "df_order = pd.read_csv(order_csv,header = None)"
     ],
     "language": "python",
     "metadata": {},
     "outputs": []
    },
    {
     "cell_type": "code",
     "collapsed": false,
     "input": [
      "df_order.head()"
     ],
     "language": "python",
     "metadata": {},
     "outputs": []
    },
    {
     "cell_type": "code",
     "collapsed": false,
     "input": [
      "ls_symbols = list(set(df_order.ix[:,3]))+['cash']"
     ],
     "language": "python",
     "metadata": {},
     "outputs": []
    },
    {
     "cell_type": "code",
     "collapsed": false,
     "input": [
      "ls_symbols"
     ],
     "language": "python",
     "metadata": {},
     "outputs": []
    },
    {
     "cell_type": "code",
     "collapsed": false,
     "input": [
      "dataobj = da.DataAccess('Yahoo')\n",
      "dt_start = dt.datetime(df_order.ix[0,0],df_order.ix[0,1],df_order.ix[0,2])\n",
      "dt_last = dt.datetime(df_order.iloc[-1,0],df_order.iloc[-1,1],df_order.iloc[-1,2])\n",
      "dt_end = dt_last + dt.timedelta(days=1)\n",
      "dt_timeofday = dt.timedelta(hours = 16)\n",
      "ldt_timestamps = du.getNYSEdays(dt_start,dt_end,dt_timeofday)"
     ],
     "language": "python",
     "metadata": {},
     "outputs": []
    },
    {
     "cell_type": "code",
     "collapsed": false,
     "input": [
      "ldt_timestamps[:5]"
     ],
     "language": "python",
     "metadata": {},
     "outputs": []
    },
    {
     "cell_type": "code",
     "collapsed": false,
     "input": [
      "df_close = dataobj.get_data(ldt_timestamps, ls_symbols, 'close')\n",
      "df_close = df_close.fillna(method = 'ffill')\n",
      "df_close = df_close.fillna(method = 'bfill')\n",
      "df_close = df_close.fillna(1.0)"
     ],
     "language": "python",
     "metadata": {},
     "outputs": []
    },
    {
     "cell_type": "code",
     "collapsed": false,
     "input": [
      "df_close.to_csv('df_close.csv')\n",
      "print df_close.head()"
     ],
     "language": "python",
     "metadata": {},
     "outputs": []
    },
    {
     "cell_type": "code",
     "collapsed": false,
     "input": [
      "df_trades = copy.deepcopy(df_close)\n",
      "df_trades = df_trades * 0.0"
     ],
     "language": "python",
     "metadata": {},
     "outputs": []
    },
    {
     "cell_type": "code",
     "collapsed": false,
     "input": [
      "ar_order = df_order.values\n",
      "ar_order[:,5] = ar_order[:,5]*1.0\n",
      "ar_order"
     ],
     "language": "python",
     "metadata": {},
     "outputs": []
    },
    {
     "cell_type": "code",
     "collapsed": false,
     "input": [
      "df_trades1 = copy.deepcopy(df_trades)\n",
      "df_trades1['cash'][0]=cash\n",
      "#print df_trades1"
     ],
     "language": "python",
     "metadata": {},
     "outputs": []
    },
    {
     "cell_type": "code",
     "collapsed": false,
     "input": [
      "for i in range(0,len(ldt_timestamps)):\n",
      "    for j in range(0,len(ar_order)):\n",
      "        if (dt.datetime(ar_order[j,0],ar_order[j,1],ar_order[j,2]).date() == ldt_timestamps[i].date()) & (ar_order[j,4] == 'Buy'):\n",
      "            df_trades1[str(ar_order[j,3])][i] += ar_order[j,5]\n",
      "            df_trades1['cash'][i] -= ar_order[j,5] * df_close[str(ar_order[j,3])][i]\n",
      "        elif (dt.datetime(ar_order[j,0],ar_order[j,1],ar_order[j,2]).date() == ldt_timestamps[i].date()) & (ar_order[j,4] == 'Sell'):\n",
      "            df_trades1[ar_order[j,3]][i] -= ar_order[j,5]\n",
      "            df_trades1['cash'][i] += ar_order[j,5] * df_close[str(ar_order[j,3])][i]\n",
      "for sym in ls_symbols:\n",
      "    base = df_trades1[sym][0]\n",
      "    for i in range(1,len(ldt_timestamps)):\n",
      "        base += df_trades1[sym][i]\n",
      "        df_trades1[sym][i] = base\n",
      "print df_trades1.head"
     ],
     "language": "python",
     "metadata": {},
     "outputs": []
    },
    {
     "cell_type": "code",
     "collapsed": false,
     "input": [
      "df_sum = pd.DataFrame()\n",
      "for sym in ls_symbols:\n",
      "    print sym\n",
      "    df_sum[sym] = df_trades1[sym] * df_close[sym]\n",
      "    df_trades1['total_value'] = df_sum.sum(axis=1)\n",
      "print df_trades1.head()"
     ],
     "language": "python",
     "metadata": {},
     "outputs": []
    },
    {
     "cell_type": "code",
     "collapsed": false,
     "input": [
      "xdate = [2011,9,26]\n",
      "for i in range(0,len(ldt_timestamps)):\n",
      "    if ldt_timestamps[i].date() == dt.datetime(xdate[0],xdate[1],xdate[2]).date():\n",
      "        x = df_trades1['total_value'][i]\n",
      "        y = ldt_timestamps[i]\n",
      "y,x"
     ],
     "language": "python",
     "metadata": {},
     "outputs": []
    },
    {
     "cell_type": "code",
     "collapsed": false,
     "input": [
      "# write result to value.csv\n",
      "value_csv = \"F:\\\\kp\\\\Rutgers\\\\2014Fall\\\\ComputationalInvesting\\\\HW3\\\\Orders-files\\\\value1.csv\"\n",
      "df_trades1.to_csv(value_csv)"
     ],
     "language": "python",
     "metadata": {},
     "outputs": []
    },
    {
     "cell_type": "code",
     "collapsed": false,
     "input": [
      "df_trades1['total_value_nor'] = df_trades1['total_value']/(df_trades1['total_value'][0])"
     ],
     "language": "python",
     "metadata": {},
     "outputs": []
    },
    {
     "cell_type": "code",
     "collapsed": false,
     "input": [
      "df_trades1['daily_ret'] = df_trades1['total_value_nor']/df_trades1['total_value_nor'].shift(1)-1\n",
      "df_trades1['daily_ret'][0] = 0.0\n",
      "print df_trades1"
     ],
     "language": "python",
     "metadata": {},
     "outputs": []
    },
    {
     "cell_type": "code",
     "collapsed": false,
     "input": [
      "pt_std = np.std(df_trades1['daily_ret'])\n",
      "pt_ave_ret = np.average(df_trades1['daily_ret'])\n",
      "pt_sharpe = np.sqrt(252)*pt_ave_ret/pt_std\n",
      "pt_cum = df_trades1['total_value_nor'][-1]\n",
      "pt_std, pt_ave_ret, pt_sharpe, pt_cum"
     ],
     "language": "python",
     "metadata": {},
     "outputs": []
    },
    {
     "cell_type": "code",
     "collapsed": false,
     "input": [
      "df_close_SPX = dataobj.get_data(ldt_timestamps, ['$SPX'], 'close')"
     ],
     "language": "python",
     "metadata": {},
     "outputs": []
    },
    {
     "cell_type": "code",
     "collapsed": false,
     "input": [
      "df_close_SPX['$SPX_nor'] = df_close_SPX['$SPX']/df_close_SPX['$SPX'][0]\n",
      "df_close_SPX['$SPX_daily'] = df_close_SPX['$SPX']/df_close_SPX['$SPX'].shift(1)-1\n",
      "df_close_SPX['$SPX_daily'][0] = 0.0\n",
      "print df_close_SPX"
     ],
     "language": "python",
     "metadata": {},
     "outputs": []
    },
    {
     "cell_type": "code",
     "collapsed": false,
     "input": [
      "SPX_std = np.std(df_close_SPX['$SPX_daily'])\n",
      "SPX_ave_ret = np.average(df_close_SPX['$SPX_daily'])\n",
      "SPX_sharpe = np.sqrt(252)*SPX_ave_ret/SPX_std\n",
      "SPX_cum = df_close_SPX['$SPX_nor'][-1]\n",
      "SPX_sharpe, SPX_cum, SPX_std, SPX_ave_ret"
     ],
     "language": "python",
     "metadata": {},
     "outputs": []
    },
    {
     "cell_type": "code",
     "collapsed": false,
     "input": [
      "pd.options.display.mpl_style = 'default'\n",
      "%matplotlib inline\n",
      "pt = df_trades1['total_value']\n",
      "SPX = df_close_SPX['$SPX_nor']*1000000\n",
      "df_plot = pd.concat([pt,SPX],axis=1)\n",
      "pic = df_plot.plot()\n",
      "pic.set_ylabel('fund value')\n",
      "pic.set_xlabel('date')"
     ],
     "language": "python",
     "metadata": {},
     "outputs": []
    },
    {
     "cell_type": "code",
     "collapsed": false,
     "input": [],
     "language": "python",
     "metadata": {},
     "outputs": []
    }
   ],
   "metadata": {}
  }
 ]
}