{
 "cells": [
  {
   "cell_type": "code",
   "execution_count": 11,
   "metadata": {
    "collapsed": false
   },
   "outputs": [],
   "source": [
    "#Stock Investing with Python Part2 \n",
    "#=========Event Analyzer=========\n",
    "#Kun Zhuang\n",
    "#iamzjk@hotmail.com"
   ]
  },
  {
   "cell_type": "code",
   "execution_count": 12,
   "metadata": {
    "collapsed": false
   },
   "outputs": [],
   "source": [
    "import pandas as pd\n",
    "import numpy as np\n",
    "import datetime as dt\n",
    "import math\n",
    "import copy\n",
    "import QSTK.qstkutil.qsdateutil as du\n",
    "import QSTK.qstkutil.DataAccess as da\n",
    "import QSTK.qstkutil.tsutil as tu\n",
    "import QSTK.qstkstudy.EventProfiler as ep"
   ]
  },
  {
   "cell_type": "code",
   "execution_count": 13,
   "metadata": {
    "collapsed": false
   },
   "outputs": [],
   "source": [
    "# find_events function\n",
    "def find_events(symbols,startdate,enddate):\n",
    "    '''symbols is either 'sp5002008' or 'sp5002012', date as list [year,month,day]'''\n",
    "    print 'Accessing Yahoo dataset'\n",
    "    dataobj = da.DataAccess('Yahoo')\n",
    "    print 'Getting symbols'\n",
    "    ls_symbols = dataobj.get_symbols_from_list(symbols)\n",
    "    ls_symbols.append('SPY')\n",
    "    print 'creating timestamps'\n",
    "    dt_start = dt.datetime(startdate[0],startdate[1],startdate[2])\n",
    "    dt_end = dt.datetime(enddate[0],enddate[1],enddate[2])\n",
    "    ldt_timestamps = du.getNYSEdays(dt_start,dt_end,dt.timedelta(hours=16))\n",
    "    print 'Downloading data from Yahoo'\n",
    "    ls_keys = ['open', 'high', 'low', 'close', 'volume', 'actual_close']\n",
    "    df_data = dataobj.get_data(ldt_timestamps,ls_symbols,ls_keys)\n",
    "    print 'zipping data'\n",
    "    d_data = dict(zip(ls_keys,df_data))\n",
    "    print 'fill up NANs'\n",
    "    for s_key in ls_keys:\n",
    "        d_data[s_key] = d_data[s_key].fillna(method='ffill')\n",
    "        d_data[s_key] = d_data[s_key].fillna(method='bfill')\n",
    "        d_data[s_key] = d_data[s_key].fillna(1.0)\n",
    "    print 'finding events'\n",
    "    df_actual = d_data['actual_close']               #draw actual close price only\n",
    "    df_events = copy.deepcopy(df_actual) * np.NAN     #creat event dataframe with NAN value in the same size as df_actual\n",
    "    d_index = df_actual.index\n",
    "    for sym in ls_symbols:\n",
    "        for i in range(1,len(d_index)):\n",
    "            if (df_actual[sym].ix[i-1] - df_actual[sym].ix[i])/df_actual[sym].ix[i-1] > 0.15:\n",
    "#            if df_actual[sym].ix[i-1] >= 10.0 and df_actual[sym].ix[i] < 10.0:\n",
    "                df_events[sym].ix[d_index[i]] = 1\n",
    "    print 'finishing'\n",
    "    return (df_events,d_data,ldt_timestamps,d_index)"
   ]
  },
  {
   "cell_type": "code",
   "execution_count": 14,
   "metadata": {
    "collapsed": false
   },
   "outputs": [],
   "source": [
    "# inputs\n",
    "symbols1 = 'sp5002012'\n",
    "startdate1 = [2008,1,1]\n",
    "enddate1 = [2009,12,31]"
   ]
  },
  {
   "cell_type": "code",
   "execution_count": 15,
   "metadata": {
    "collapsed": false
   },
   "outputs": [
    {
     "name": "stdout",
     "output_type": "stream",
     "text": [
      "Accessing Yahoo dataset\n",
      "Getting symbols\n",
      "creating timestamps\n",
      "Downloading data from Yahoo\n",
      "zipping data\n",
      "fill up NANs\n",
      "finding events\n",
      "finishing\n"
     ]
    }
   ],
   "source": [
    "# use function to get results\n",
    "df_events,d_data,ldt_timestamps,d_index = find_events(symbols1,startdate1,enddate1)"
   ]
  },
  {
   "cell_type": "code",
   "execution_count": 16,
   "metadata": {
    "collapsed": false
   },
   "outputs": [],
   "source": [
    "ep.eventprofiler(df_events, d_data, i_lookback=20, i_lookforward=20,\n",
    "                s_filename='MyEventStudy_10_2012_15pct.pdf', b_market_neutral=True, b_errorbars=True,\n",
    "                s_market_sym='SPY')"
   ]
  },
  {
   "cell_type": "code",
   "execution_count": 17,
   "metadata": {
    "collapsed": false
   },
   "outputs": [
    {
     "data": {
      "text/plain": [
       "2008"
      ]
     },
     "execution_count": 17,
     "metadata": {},
     "output_type": "execute_result"
    }
   ],
   "source": [
    "ldt_timestamps[10].date().year"
   ]
  },
  {
   "cell_type": "code",
   "execution_count": null,
   "metadata": {
    "collapsed": false
   },
   "outputs": [],
   "source": []
  }
 ],
 "metadata": {
  "kernelspec": {
   "display_name": "Python 2",
   "language": "python",
   "name": "python2"
  },
  "language_info": {
   "codemirror_mode": {
    "name": "ipython",
    "version": 2
   },
   "file_extension": ".py",
   "mimetype": "text/x-python",
   "name": "python",
   "nbconvert_exporter": "python",
   "pygments_lexer": "ipython2",
   "version": "2.7.8"
  }
 },
 "nbformat": 4,
 "nbformat_minor": 0
}
